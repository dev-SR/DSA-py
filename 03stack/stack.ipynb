{
 "cells": [
  {
   "cell_type": "markdown",
   "metadata": {},
   "source": [
    "# Stack"
   ]
  },
  {
   "cell_type": "markdown",
   "metadata": {},
   "source": [
    "<!--\n",
    "jupyter nbconvert --to markdown stack.ipynb --output README.md\n",
    " -->\n",
    "<div align=\"center\">\n",
    "<img src=\"img/intro.jpg\" alt=\"rec\" width=\"1000px\">\n",
    "</div>\n",
    "\n",
    "**Basic Operations of Stack**\n",
    "\n",
    "There are some basic operations that allow us to perform different actions on a stack.\n",
    "\n",
    "- `Push`: Add an element to the top of a stack\n",
    "- `Pop`: Remove an element from the top of a stack\n",
    "- `IsEmpty`: Check if the stack is empty\n",
    "- `IsFull`: Check if the stack is full\n",
    "- `Top`: Get the value of the top element without removing it\n",
    "- `Size`: Get size of the stack\n",
    "\n",
    "\n"
   ]
  },
  {
   "cell_type": "markdown",
   "metadata": {},
   "source": [
    "## Stack Using Array"
   ]
  },
  {
   "cell_type": "code",
   "execution_count": 1,
   "metadata": {},
   "outputs": [],
   "source": [
    "class Stack:\n",
    "\t\n",
    "\tdef __init__(self) -> None:\n",
    "\t\tself.__data = []\n",
    "\t\n",
    "\tdef push(self, value) -> None:\n",
    "\t\tself.__data.append(value)\n",
    "\t\n",
    "\tdef pop(self) -> None:\n",
    "\t\tif self.is_empty():\n",
    "\t\t\tprint(\"Stack is empty\")\n",
    "\t\t\treturn\n",
    "\t\treturn self.__data.pop()\n",
    "\t\n",
    "\tdef top(self) -> int:\n",
    "\t\tif self.is_empty():\n",
    "\t\t\tprint(\"Stack is empty\")\n",
    "\t\t\treturn\n",
    "\t\t# return self.__data[-1]\n",
    "\t\treturn self.__data[self.size() - 1]\n",
    "\t\t\n",
    "\t\n",
    "\tdef size(self) -> int:\n",
    "\t\treturn len(self.__data)\n",
    "\n",
    "\tdef is_empty(self) -> bool:\n",
    "\t\treturn self.size() == 0\n"
   ]
  },
  {
   "cell_type": "code",
   "execution_count": 5,
   "metadata": {},
   "outputs": [
    {
     "name": "stdout",
     "output_type": "stream",
     "text": [
      "2\n",
      "10\n"
     ]
    }
   ],
   "source": [
    "s = Stack()\n",
    "s.push(1)\n",
    "s.push(2)\n",
    "print(s.top())\n",
    "s.push(10)\n",
    "print(s.top())"
   ]
  },
  {
   "cell_type": "code",
   "execution_count": 3,
   "metadata": {},
   "outputs": [
    {
     "name": "stdout",
     "output_type": "stream",
     "text": [
      "10\n",
      "2\n",
      "1\n"
     ]
    }
   ],
   "source": [
    "while s.is_empty() is False:\n",
    "\tprint(s.pop())"
   ]
  }
 ],
 "metadata": {
  "interpreter": {
   "hash": "8cdb09b0bc1c395d296938b19fe7764d972a7ceeffba4d3ad7ff6a3771581719"
  },
  "kernelspec": {
   "display_name": "Python 3.8.8 64-bit ('ProgramData': virtualenv)",
   "language": "python",
   "name": "python3"
  },
  "language_info": {
   "codemirror_mode": {
    "name": "ipython",
    "version": 3
   },
   "file_extension": ".py",
   "mimetype": "text/x-python",
   "name": "python",
   "nbconvert_exporter": "python",
   "pygments_lexer": "ipython3",
   "version": "3.8.8"
  },
  "orig_nbformat": 2
 },
 "nbformat": 4,
 "nbformat_minor": 2
}
