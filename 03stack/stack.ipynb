{
 "cells": [
  {
   "cell_type": "markdown",
   "metadata": {},
   "source": [
    "# Stack"
   ]
  },
  {
   "cell_type": "markdown",
   "metadata": {},
   "source": [
    "<!--\n",
    "jupyter nbconvert --to markdown stack.ipynb --output README.md\n",
    " -->\n",
    "<div align=\"center\">\n",
    "<img src=\"img/intro.jpg\" alt=\"rec\" width=\"1000px\">\n",
    "</div>\n",
    "\n",
    "**Basic Operations of Stack**\n",
    "\n",
    "There are some basic operations that allow us to perform different actions on a stack.\n",
    "\n",
    "- `Push`: Add an element to the top of a stack\n",
    "- `Pop`: Remove an element from the top of a stack\n",
    "- `IsEmpty`: Check if the stack is empty\n",
    "- `IsFull`: Check if the stack is full\n",
    "- `Top`: Get the value of the top element without removing it\n",
    "- `Size`: Get size of the stack\n"
   ]
  },
  {
   "cell_type": "markdown",
   "metadata": {},
   "source": [
    "## Stack Using Array"
   ]
  },
  {
   "cell_type": "code",
   "execution_count": 1,
   "metadata": {},
   "outputs": [],
   "source": [
    "class Stack:\n",
    "\t\n",
    "\tdef __init__(self) -> None:\n",
    "\t\tself.__data = []\n",
    "\t\n",
    "\tdef push(self, value) -> None:\n",
    "\t\tself.__data.append(value)\n",
    "\t\n",
    "\tdef pop(self) -> None:\n",
    "\t\tif self.is_empty():\n",
    "\t\t\tprint(\"Stack is empty\")\n",
    "\t\t\treturn\n",
    "\t\treturn self.__data.pop()\n",
    "\t\n",
    "\tdef top(self) -> int:\n",
    "\t\tif self.is_empty():\n",
    "\t\t\tprint(\"Stack is empty\")\n",
    "\t\t\treturn\n",
    "\t\t# return self.__data[-1]\n",
    "\t\treturn self.__data[self.size() - 1]\n",
    "\t\t\n",
    "\t\n",
    "\tdef size(self) -> int:\n",
    "\t\treturn len(self.__data)\n",
    "\n",
    "\tdef is_empty(self) -> bool:\n",
    "\t\treturn self.size() == 0\n"
   ]
  },
  {
   "cell_type": "code",
   "execution_count": 5,
   "metadata": {},
   "outputs": [
    {
     "name": "stdout",
     "output_type": "stream",
     "text": [
      "2\n",
      "10\n"
     ]
    }
   ],
   "source": [
    "s = Stack()\n",
    "s.push(1)\n",
    "s.push(2)\n",
    "print(s.top())\n",
    "s.push(10)\n",
    "print(s.top())"
   ]
  },
  {
   "cell_type": "code",
   "execution_count": 3,
   "metadata": {},
   "outputs": [
    {
     "name": "stdout",
     "output_type": "stream",
     "text": [
      "10\n",
      "2\n",
      "1\n"
     ]
    }
   ],
   "source": [
    "while s.is_empty() is False:\n",
    "\tprint(s.pop())"
   ]
  },
  {
   "cell_type": "markdown",
   "metadata": {},
   "source": [
    "## Stack Using Linked List"
   ]
  },
  {
   "cell_type": "markdown",
   "metadata": {},
   "source": [
    "<div align=\"center\">\n",
    "<img src=\"img/ll_v1.jpg\" alt=\"rec\" width=\"900px\">\n",
    "</div>\n",
    "\n",
    "- moving `tail` pointer back to the previous node is not possible in linked list as it has no concept of previous node\n",
    "\n",
    "<div align=\"center\">\n",
    "<img src=\"img/ll_v2.jpg\" alt=\"rec\" width=\"900px\">\n",
    "</div>"
   ]
  },
  {
   "cell_type": "code",
   "execution_count": 3,
   "metadata": {},
   "outputs": [],
   "source": [
    "\n",
    "class Node:\n",
    "\t\n",
    "\tdef __init__(self, value) -> None:\n",
    "\t\tself.data = value\n",
    "\t\tself.next = None\n",
    "\t\n",
    "\tdef __str__(self) -> str:\n",
    "\t\treturn str(self.value)\n",
    "\n",
    "class Stack:\n",
    "\t\n",
    "\tdef __init__(self) -> None:\n",
    "\t\tself.__head = None\n",
    "\t\tself.__count = 0\n",
    "\t\n",
    "\tdef push(self, value) -> None:\n",
    "\t\tnewNode = Node(value)\n",
    "\t\tnewNode.next = self.__head\n",
    "\t\tself.__head = newNode\n",
    "\t\tself.__count += 1\n",
    "\t\n",
    "\tdef pop(self) -> None:\n",
    "\t\tif self.is_empty():\n",
    "\t\t\tprint(\"Stack is empty\")\n",
    "\t\t\treturn\n",
    "\t\tdata = self.__head.data\n",
    "\t\tself.__head = self.__head.next\n",
    "\t\tself.__count -= 1\n",
    "\t\treturn data\n",
    "\t\n",
    "\tdef top(self) -> int:\n",
    "\t\tif self.is_empty():\n",
    "\t\t\tprint(\"Stack is empty\")\n",
    "\t\t\treturn\n",
    "\t\treturn self.__head.data\n",
    "\t\t\n",
    "\tdef size(self) -> int:\n",
    "\t\treturn self.__count\n",
    "\t\n",
    "\tdef is_empty(self) -> bool:\n",
    "\t\treturn self.size() == 0"
   ]
  },
  {
   "cell_type": "code",
   "execution_count": 4,
   "metadata": {},
   "outputs": [
    {
     "name": "stdout",
     "output_type": "stream",
     "text": [
      "2\n",
      "10\n"
     ]
    }
   ],
   "source": [
    "s = Stack()\n",
    "s.push(1)\n",
    "s.push(2)\n",
    "print(s.top())\n",
    "s.push(10)\n",
    "print(s.top())"
   ]
  },
  {
   "cell_type": "code",
   "execution_count": 5,
   "metadata": {},
   "outputs": [
    {
     "name": "stdout",
     "output_type": "stream",
     "text": [
      "10\n",
      "2\n",
      "1\n"
     ]
    }
   ],
   "source": [
    "while s.is_empty() is False:\n",
    "\tprint(s.pop())"
   ]
  },
  {
   "cell_type": "markdown",
   "metadata": {},
   "source": [
    "## In-Built Stack"
   ]
  },
  {
   "cell_type": "markdown",
   "metadata": {},
   "source": [
    "- list as stack"
   ]
  },
  {
   "cell_type": "code",
   "execution_count": 11,
   "metadata": {},
   "outputs": [
    {
     "name": "stdout",
     "output_type": "stream",
     "text": [
      "5\n",
      "4\n",
      "TOP: 3\n"
     ]
    }
   ],
   "source": [
    "s = [1,2,3]\n",
    "s.append(4)\n",
    "s.append(5)\n",
    "\n",
    "print(s.pop())\n",
    "print(s.pop())\n",
    "\n",
    "print(\"TOP:\", s[-1])"
   ]
  },
  {
   "cell_type": "markdown",
   "metadata": {},
   "source": [
    "## Balanced Parenthesis Problem using Stack"
   ]
  },
  {
   "cell_type": "markdown",
   "metadata": {},
   "source": [
    "<div align=\"center\">\n",
    "<img src=\"img/balanced-delimiters-stack.png\" alt=\"rec\" width=\"900px\">\n",
    "</div>\n",
    "\n",
    "**Problem Description:** You are given with a string expression, write a program to find whether\n",
    "brackets are balanced or not, i.e. if a bracket opens last, then it should get closed first. Print true\n",
    "if the brackets are balanced, otherwise print false.\n",
    "\n",
    "For example: `{ a + [ b+ (c + d)] + (e + f) }`\n",
    "Here, all the brackets are balanced, so the output for this input string must be true.\n",
    "\n",
    "**Algorithm to approach:**\n",
    "1. You need to declare a Stack S.\n",
    "2. Now, traverse the string expression.\n",
    "   - If the current character of the string is an opening bracket`(‘(‘ or ‘{‘ or ‘[‘)`, then push it to the stack.\n",
    "   - If the current character is a closing bracket `(‘)’` or `‘}’` or `‘]’)` then pop from stack and if the popped character is the matching opening bracket then fine, else parentheses are not balanced. This is because of the fact that in a balanced brackets expression, whichever bracket opens last, should be closed first.\n",
    "   - After complete traversal, if there is some starting bracket left in stack then the expression is “not balanced” because this means there are some extra opening brackets.\n",
    "\n",
    "Let us take an example:\n",
    "`{ a + [ b+ (c + d)] + (e + f) }`\n",
    "\n",
    "Make a stack S.\n",
    "We have an opening bracket first, insert it into the stack.\n",
    "\n",
    "```\n",
    "       ┏━━━━━━━━\n",
    "       ┃ { ┃\n",
    "       ┗━━━━━━━━\n",
    "```\n",
    "\n",
    "Again an opening bracket, insert into the stack.\n",
    "\n",
    "\n",
    "```\n",
    "       ┏━━━━━━━━━━━━\n",
    "       ┃ { ┃ [ ┃\n",
    "       ┗━━━━━━━━━━━━\n",
    "```\n",
    "\n",
    "Again, an opening bracket, insert into the stack.\n",
    "\n",
    "\n",
    "```\n",
    "       ┏━━━━━━━━━━━━━━━━━━\n",
    "       ┃ { ┃ [ ┃ ( ┃\n",
    "       ┗━━━━━━━━━━━━━━━━━━\n",
    "```\n",
    "\n",
    "\n",
    "Now, we encounter a closing bracket, pop the topmost element from the stack and it matches the\n",
    "closing bracket. Hence, we continue the process.\n",
    "\n",
    "\n",
    "```\n",
    "       ┏━━━━━━━━━━━━━━━━━━\n",
    "       ┃ { ┃ [ ┃ \n",
    "       ┗━━━━━━━━━━━━━━━━━━\n",
    "```\n",
    "\n",
    "\n",
    "Again, we encounter a closing bracket, pop the topmost element from the stack and it matches\n",
    "the closing bracket. Hence, we continue the process.\n",
    "\n",
    "\n",
    "```\n",
    "       ┏━━━━━━━━━━━━━━━━━━\n",
    "       ┃ { ┃ \n",
    "       ┗━━━━━━━━━━━━━━━━━━\n",
    "```\n",
    "\n",
    "Again, we encounter a closing bracket, pop the topmost element from the stack and it matches\n",
    "the closing bracket. Hence, we continue the process.\n",
    "\n",
    "\n",
    "```\n",
    "       ┏━━━━━━━━━━━━━━━━━━\n",
    "       ┃ \n",
    "       ┗━━━━━━━━━━━━━━━━━━\n",
    "```\n",
    "\n",
    "Now, the string finished and we have an empty stack left, hence the brackets are balanced."
   ]
  },
  {
   "cell_type": "markdown",
   "metadata": {},
   "source": [
    "<div align=\"center\">\n",
    "<img src=\"img/balance_paranthesis.jpg\" alt=\"rec\" width=\"900px\">\n",
    "</div>"
   ]
  },
  {
   "cell_type": "code",
   "execution_count": 26,
   "metadata": {},
   "outputs": [
    {
     "name": "stdout",
     "output_type": "stream",
     "text": [
      "True\n",
      "False\n"
     ]
    }
   ],
   "source": [
    "def isBalanced(string):\n",
    "\tstack = []\n",
    "\tfor char in string:\n",
    "\t\tif char in '({[':\n",
    "\t\t\tstack.append(char)\n",
    "\t\telif char == ')':\n",
    "\t\t\tif (not stack or stack[-1] != '('):\n",
    "\t\t\t\treturn False\n",
    "\t\t\tstack.pop()\n",
    "\t\telif char == '}':\n",
    "\t\t\tif (not stack or stack[-1] != '{'):\n",
    "\t\t\t\treturn False\n",
    "\t\t\tstack.pop()\n",
    "\t\telif char == ']':\n",
    "\t\t\tif (not stack or stack[-1] != '['):\n",
    "\t\t\t\treturn False\n",
    "\t\t\tstack.pop()\n",
    "\t\t\n",
    "\tif(not stack):\n",
    "\t\treturn True\n",
    "\treturn False\n",
    "\n",
    "\n",
    "string = \"{a+[b+(c+d)]+(e+f)}\"\n",
    "print(isBalanced(string))\n",
    "string = \"{a+[b+(c+d)]+(e+f)\"\n",
    "print(isBalanced(string))\n"
   ]
  },
  {
   "cell_type": "markdown",
   "metadata": {},
   "source": [
    "## Reverse Stack"
   ]
  },
  {
   "cell_type": "markdown",
   "metadata": {},
   "source": [
    "<div align=\"center\">\n",
    "<img src=\"img/reversing_stack.jpg\" alt=\"rec\" width=\"900px\">\n",
    "</div>\n"
   ]
  },
  {
   "cell_type": "code",
   "execution_count": 43,
   "metadata": {},
   "outputs": [
    {
     "name": "stdout",
     "output_type": "stream",
     "text": [
      "[1, 2, 3, 4, 5]\n",
      "[5, 4, 3, 2, 1]\n",
      "1 2 3 4 5 "
     ]
    }
   ],
   "source": [
    "def reverseStack(s1,s2):\n",
    "\tif (len(s1) <=1):\n",
    "\t\treturn\n",
    "\n",
    "\twhile (len(s1)!= 1):\n",
    "\t\telement = s1.pop()\n",
    "\t\ts2.append(element)\n",
    "\t\n",
    "\tlastElement = s1.pop()\n",
    "\n",
    "\twhile(len(s2)!= 0):\n",
    "\t\telement = s2.pop()\n",
    "\t\ts1.append(element)\n",
    "\t\n",
    "\treverseStack(s1,s2)\n",
    "\ts1.append(lastElement)\n",
    "\t\n",
    "\n",
    "s1 = [1,2,3,4,5]\n",
    "s2 = []\n",
    "print(s1)\n",
    "reverseStack(s1,s2)\n",
    "print(s1)\n",
    "while (len(s1)!= 0):\n",
    "\tprint(s1.pop(),end=\" \")\n"
   ]
  }
 ],
 "metadata": {
  "interpreter": {
   "hash": "8cdb09b0bc1c395d296938b19fe7764d972a7ceeffba4d3ad7ff6a3771581719"
  },
  "kernelspec": {
   "display_name": "Python 3.8.8 64-bit ('ProgramData': virtualenv)",
   "language": "python",
   "name": "python3"
  },
  "language_info": {
   "codemirror_mode": {
    "name": "ipython",
    "version": 3
   },
   "file_extension": ".py",
   "mimetype": "text/x-python",
   "name": "python",
   "nbconvert_exporter": "python",
   "pygments_lexer": "ipython3",
   "version": "3.8.8"
  },
  "orig_nbformat": 2
 },
 "nbformat": 4,
 "nbformat_minor": 2
}
