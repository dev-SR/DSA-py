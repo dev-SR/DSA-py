{
 "cells": [
  {
   "cell_type": "markdown",
   "metadata": {},
   "source": [
    "# Linked List\n",
    "\n",
    "<!-- jupyter nbconvert --to markdown linked_list.ipynb --output README.md -->\n",
    "<div align=\"center\">\n",
    "<img src=\"img/ll_1.jpg\" alt=\"rec\" width=\"800px\">\n",
    "</div>"
   ]
  },
  {
   "cell_type": "markdown",
   "metadata": {},
   "source": [
    "## Node Creation"
   ]
  },
  {
   "cell_type": "code",
   "execution_count": 16,
   "metadata": {},
   "outputs": [
    {
     "name": "stdout",
     "output_type": "stream",
     "text": [
      "None <--- `a.next`\n",
      "<__main__.Node object at 0x0000016B6BB289D0> <--- `a.next`, after `a.next=b`\n",
      "<__main__.Node object at 0x0000016B6BB289D0> <--- also the address `b`\n",
      "2\n",
      "2\n"
     ]
    }
   ],
   "source": [
    "class Node:\n",
    "\t\n",
    "\tdef __init__(self,data):\n",
    "\t\tself.data=data\n",
    "\t\tself.next=None\n",
    "\n",
    "\n",
    "a= Node(1)\n",
    "b= Node(2)\n",
    "print(a.next, \"<--- `a.next`\")\n",
    "\n",
    "#    ┏━━━┓      ┏━━━┓\n",
    "#    ┃ a ┃----> ┃ b ┃\n",
    "#    ┗━━━┛      ┗━━━┛\n",
    "a.next=b \n",
    "\n",
    "\n",
    "print(a.next,\"<--- `a.next`, after `a.next=b`\")\n",
    "print(b, \"<--- also the address `b`\")\n",
    "print(b.data)\n",
    "print(a.next.data)\n"
   ]
  },
  {
   "cell_type": "markdown",
   "metadata": {},
   "source": [
    "## Linked List Creation v1\n",
    "\n",
    "<div align=\"center\">\n",
    "<img src=\"img/linked_list_creation_v1.jpg\" alt=\"rec\" width=\"1000px\" >\n",
    "</div>\n",
    "<!-- width=\"800px\" -->"
   ]
  },
  {
   "cell_type": "code",
   "execution_count": 8,
   "metadata": {},
   "outputs": [],
   "source": [
    "class Node:\n",
    "\n",
    "\tdef __init__(self, data):\n",
    "\t\tself.data = data\n",
    "\t\tself.next = None\n",
    "\n",
    "def takeInput():\n",
    "\tinputList= [int(ele) for ele in input().split()] # 1 2 3 -1 ----->  [1,2,3,-1]\n",
    "\t\n",
    "\thead = None\n",
    "\tfor currentData in inputList:\n",
    "\t\tif currentData == -1:\n",
    "\t\t\tbreak\n",
    "\t\t\n",
    "\t\tnewNode = Node(currentData)\n",
    "\t\t# fist node\n",
    "\t\tif head is None:\n",
    "\t\t\thead = newNode\n",
    "\t\telse:\n",
    "\t\t\tcurrentNode = head # do not change the value of head\n",
    "\t\t\t# go to last node\n",
    "\t\t\twhile currentNode.next is not None:\n",
    "\t\t\t\tcurrentNode = currentNode.next \n",
    "\t\t\t# assign new node to last node's next\n",
    "\t\t\tcurrentNode.next = newNode\t\n",
    "\t\n",
    "\treturn head\n",
    "\t\n",
    "def printList(head):\n",
    "\tcount = 0\n",
    "\twhile head is not None:\n",
    "\t\tprint(str(head.data)+\"->\", end=\"\")\n",
    "\t\thead = head.next\n",
    "\t\tcount += 1\n",
    "\tprint(\"None\")\n",
    "\tprint(count)"
   ]
  },
  {
   "cell_type": "code",
   "execution_count": 9,
   "metadata": {},
   "outputs": [
    {
     "name": "stdout",
     "output_type": "stream",
     "text": [
      "1->2->3->None\n",
      "3\n"
     ]
    }
   ],
   "source": [
    "head = takeInput() # 1 2 3 -1\n",
    "printList(head)"
   ]
  },
  {
   "cell_type": "markdown",
   "metadata": {},
   "source": [
    "## Linked List Creation v2 - Optimized\n",
    "\n",
    "<div align=\"center\">\n",
    "<img src=\"img/linked_list_creation_v2.jpg\" alt=\"rec\" width=\"1000px\" >\n",
    "</div>\n",
    "<!-- width=\"800px\" -->"
   ]
  },
  {
   "cell_type": "code",
   "execution_count": 1,
   "metadata": {},
   "outputs": [],
   "source": [
    "class Node:\n",
    "\n",
    "\tdef __init__(self, data):\n",
    "\t\tself.data = data\n",
    "\t\tself.next = None\n",
    "\n",
    "\n",
    "def takeInput():\n",
    "\t# 1 2 3 -1 ----->  [1,2,3,-1]\n",
    "\tinputList = [int(ele) for ele in input().split()]\n",
    "\n",
    "\thead = None\n",
    "\tfor currentData in inputList:\n",
    "\t\tif currentData == -1:\n",
    "\t\t\tbreak\n",
    "\n",
    "\t\tnewNode = Node(currentData)\n",
    "\t\t# fist node\n",
    "\t\tif head is None:\n",
    "\t\t\thead = newNode\n",
    "\t\t\ttail = newNode\n",
    "\t\telse:\n",
    "\t\t\ttail.next = newNode\n",
    "\t\t\ttail = newNode\n",
    "\n",
    "\treturn head\n",
    "\n",
    "\n",
    "def printList(head):\n",
    "\twhile head is not None:\n",
    "\t\tprint(str(head.data)+\"->\", end=\"\")\n",
    "\t\thead = head.next\n",
    "\tprint(\"None\")\n"
   ]
  },
  {
   "cell_type": "code",
   "execution_count": 2,
   "metadata": {},
   "outputs": [
    {
     "name": "stdout",
     "output_type": "stream",
     "text": [
      "1->2->3->None\n"
     ]
    }
   ],
   "source": [
    "head = takeInput()  # 1 2 3 -1\n",
    "printList(head)"
   ]
  },
  {
   "cell_type": "markdown",
   "metadata": {},
   "source": [
    "## Print ith node\n",
    "\n",
    "For a given a singly linked list of integers and a position 'i', print the node data at the 'i-th' position."
   ]
  },
  {
   "cell_type": "code",
   "execution_count": 19,
   "metadata": {},
   "outputs": [],
   "source": [
    "class Node:\n",
    "\t\n",
    "\tdef __init__(self, data):\n",
    "\t\tself.data = data\n",
    "\t\tself.next = None\n",
    "\n",
    "def createLinkedList(inputList):\n",
    "\thead = None\n",
    "\tfor currentData in inputList:\n",
    "\t\tnewNode = Node(currentData)\n",
    "\t\tif head is None:\n",
    "\t\t\thead = newNode\n",
    "\t\t\ttail = newNode\n",
    "\t\telse:\n",
    "\t\t\ttail.next = newNode\n",
    "\t\t\ttail = newNode\n",
    "\t\n",
    "\treturn head\n",
    "\n",
    "def printList(head,pos):\n",
    "\tcurrentNode = head\n",
    "\tcount = 0\n",
    "\twhile count<pos and currentNode is not None:\n",
    "\t\tcurrentNode = currentNode.next\n",
    "\t\tcount += 1\n",
    "\tprint(currentNode.data)"
   ]
  },
  {
   "cell_type": "code",
   "execution_count": 21,
   "metadata": {},
   "outputs": [
    {
     "name": "stdout",
     "output_type": "stream",
     "text": [
      "3\n"
     ]
    }
   ],
   "source": [
    "head = createLinkedList([1,2,3,4,5])\n",
    "printList(head,2)"
   ]
  },
  {
   "cell_type": "markdown",
   "metadata": {},
   "source": [
    "## Insert At Ith Position - Iteratively\n",
    "\n",
    "<div align=\"center\">\n",
    "<img src=\"img/insert_iterative.jpg\" alt=\"rec\" width=\"800px\" >\n",
    "</div>\n",
    "<!-- width=\"800px\" -->"
   ]
  },
  {
   "cell_type": "code",
   "execution_count": 3,
   "metadata": {},
   "outputs": [],
   "source": [
    "class Node:\n",
    "\n",
    "\tdef __init__(self, data):\n",
    "\t\tself.data = data\n",
    "\t\tself.next = None\n",
    "\n",
    "\n",
    "def create(inputList):\n",
    "\thead = None\n",
    "\tfor currentData in inputList:\n",
    "\t\tnewNode = Node(currentData)\n",
    "\t\tif head is None:\n",
    "\t\t\thead = newNode\n",
    "\t\t\ttail = newNode\n",
    "\t\telse:\n",
    "\t\t\ttail.next = newNode\n",
    "\t\t\ttail = newNode\n",
    "\treturn head\n",
    "\n",
    "def length(head):\n",
    "\tcount = 0\n",
    "\twhile head is not None:\n",
    "\t\tcount += 1\n",
    "\t\thead = head.next\n",
    "\treturn count\n",
    "\n",
    "def printList(head):\n",
    "\twhile head is not None:\n",
    "\t\tprint(str(head.data)+\"->\", end=\"\")\n",
    "\t\thead = head.next\n",
    "\tprint(\"None\")\n",
    "\t\n",
    "def insertAtPos(head, data, pos):\n",
    "\t\n",
    "\tif pos < 0 or pos > length(head):\n",
    "\t\treturn head\n",
    "\t\n",
    "\tcount = 0\n",
    "\tpreviousNode = None\n",
    "\tcurrentNode = head\n",
    "\t\n",
    "\t# get currentNode at pos\n",
    "\twhile count < pos:\n",
    "\t\tpreviousNode = currentNode\n",
    "\t\tcurrentNode = currentNode.next\n",
    "\t\tcount += 1\n",
    "\t# 1\n",
    "\tnewNode = Node(data)\n",
    "\t# 2\n",
    "\tif previousNode is not None:\n",
    "\t\tpreviousNode.next = newNode\n",
    "\telse:\n",
    "\t\thead = newNode\n",
    "\t# 3 \n",
    "\tnewNode.next = currentNode\n",
    "\treturn head\n"
   ]
  },
  {
   "cell_type": "code",
   "execution_count": 36,
   "metadata": {},
   "outputs": [
    {
     "name": "stdout",
     "output_type": "stream",
     "text": [
      "1->2->3->4->5->None\n",
      "1->2->10->3->4->5->None\n",
      "1->2->10->3->20->4->5->None\n"
     ]
    }
   ],
   "source": [
    "head = create([1, 2, 3, 4, 5])\n",
    "printList(head)\n",
    "head = insertAtPos(head, 10, 2)\n",
    "printList(head)\n",
    "head = insertAtPos(head, 20, 4)\n",
    "printList(head)"
   ]
  },
  {
   "cell_type": "markdown",
   "metadata": {},
   "source": [
    "## Delete At Ith Position - Iteratively\n",
    "\n",
    "<div align=\"center\">\n",
    "\t<img src=\"img/delete_iterative.jpg\" alt=\"rec\" width=\"800px\" >\n",
    "</div>"
   ]
  },
  {
   "cell_type": "code",
   "execution_count": 51,
   "metadata": {},
   "outputs": [],
   "source": [
    "def deleteAtPos(head, pos):\n",
    "\n",
    "\tif pos < 0 or pos >= length(head):\n",
    "\t\treturn head\n",
    "\n",
    "\tcount = 0\n",
    "\tpreviousNode = None\n",
    "\tcurrentNode = head\n",
    "\tnextNode = None\n",
    "\n",
    "\t# get currentNode at pos\n",
    "\twhile count < pos:\n",
    "\t\tpreviousNode = currentNode\n",
    "\t\tcurrentNode = currentNode.next\n",
    "\t\tnextNode = currentNode.next\n",
    "\t\tcount += 1\n",
    "\t# 1\n",
    "\tif previousNode is not None:\n",
    "\t\tif nextNode is None:\n",
    "\t\t\tpreviousNode.next = None\n",
    "\t\tpreviousNode.next = nextNode\n",
    "\telse:\n",
    "\t\thead = nextNode\n",
    "\t# 2\n",
    "\tdel currentNode\n",
    "\treturn head\n"
   ]
  },
  {
   "cell_type": "code",
   "execution_count": 55,
   "metadata": {},
   "outputs": [
    {
     "name": "stdout",
     "output_type": "stream",
     "text": [
      "1->2->None\n",
      "1->2->None\n",
      "1->2->3->None\n",
      "1->2->None\n",
      "1->2->3->4->None\n",
      "1->2->4->None\n"
     ]
    }
   ],
   "source": [
    "head = create([1,2])\n",
    "printList(head)\n",
    "head = deleteAtPos(head, 2)\n",
    "printList(head)\n",
    "head = create([1, 2,3])\n",
    "printList(head)\n",
    "head = deleteAtPos(head, 2)\n",
    "printList(head)\n",
    "head = create([1, 2, 3,4])\n",
    "printList(head)\n",
    "head = deleteAtPos(head, 2)\n",
    "printList(head)\n"
   ]
  }
 ],
 "metadata": {
  "interpreter": {
   "hash": "8cdb09b0bc1c395d296938b19fe7764d972a7ceeffba4d3ad7ff6a3771581719"
  },
  "kernelspec": {
   "display_name": "Python 3.8.8 64-bit ('ProgramData': virtualenv)",
   "language": "python",
   "name": "python3"
  },
  "language_info": {
   "codemirror_mode": {
    "name": "ipython",
    "version": 3
   },
   "file_extension": ".py",
   "mimetype": "text/x-python",
   "name": "python",
   "nbconvert_exporter": "python",
   "pygments_lexer": "ipython3",
   "version": "3.8.8"
  },
  "orig_nbformat": 2
 },
 "nbformat": 4,
 "nbformat_minor": 2
}
