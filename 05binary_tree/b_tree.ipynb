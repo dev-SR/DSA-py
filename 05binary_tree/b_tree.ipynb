{
 "cells": [
  {
   "cell_type": "markdown",
   "metadata": {},
   "source": [
    "# Binary Tree"
   ]
  },
  {
   "cell_type": "code",
   "execution_count": 2,
   "metadata": {},
   "outputs": [],
   "source": [
    "\"\"\"\n",
    "cd .\\05binary_tree\\\n",
    "jupyter nbconvert --to markdown b_tree.ipynb --output README.md\n",
    "\"\"\"\n"
   ]
  },
  {
   "cell_type": "markdown",
   "metadata": {},
   "source": [
    "## Introduction\n"
   ]
  },
  {
   "cell_type": "markdown",
   "metadata": {},
   "source": [
    "A binary tree is a tree data structure in which each parent node can have `0`,`1` or at most `2` children. Each node of a binary tree consists of three items:\n",
    "\n",
    "- data item\n",
    "- address of left child\n",
    "- address of right child\n",
    "\n",
    "<div align=\"center\">\n",
    "<img src=\"img/tree_intro.jpg\" alt=\"rec\" width=\"500px\">\n",
    "</div> "
   ]
  },
  {
   "cell_type": "markdown",
   "metadata": {},
   "source": [
    "## Creating Binary Tree"
   ]
  },
  {
   "cell_type": "code",
   "execution_count": 1,
   "metadata": {},
   "outputs": [],
   "source": [
    "class BinaryTreeNode:\n",
    "\tdef __init__(self, data):\n",
    "\t\tself.data = data\n",
    "\t\tself.left = None\n",
    "\t\tself.right = None\n",
    "\n",
    "\tdef __str__(self):\n",
    "\t\treturn str(self.data)"
   ]
  },
  {
   "cell_type": "code",
   "execution_count": 2,
   "metadata": {},
   "outputs": [],
   "source": [
    "A = BinaryTreeNode(\"A\")\n",
    "B = BinaryTreeNode(\"B\")\n",
    "C = BinaryTreeNode(\"C\")\n",
    "D = BinaryTreeNode(\"D\")\n",
    "E = BinaryTreeNode(\"E\")\n",
    "F = BinaryTreeNode(\"F\")\n",
    "\n",
    "A.left = B\n",
    "A.right = C\n",
    "B.left = D\n",
    "C.left = E\n",
    "C.right = F"
   ]
  },
  {
   "cell_type": "markdown",
   "metadata": {},
   "source": [
    "## Printing Binary Tree"
   ]
  },
  {
   "cell_type": "markdown",
   "metadata": {},
   "source": [
    "### Print All Nodes"
   ]
  },
  {
   "cell_type": "markdown",
   "metadata": {},
   "source": [
    "- `base case`: Check if the given node is `null`. If `null`, then `return` from the function.\n",
    "- `Inductive step`: Print the data/root of the given node.\n",
    "- `Hypothesis`: recursive function will print\n",
    "  - left subtree\n",
    "  - then, right subtree"
   ]
  },
  {
   "cell_type": "code",
   "execution_count": 3,
   "metadata": {},
   "outputs": [
    {
     "name": "stdout",
     "output_type": "stream",
     "text": [
      "A\n",
      "B\n",
      "D\n",
      "C\n",
      "E\n",
      "F\n"
     ]
    }
   ],
   "source": [
    "def print_tree(root):\n",
    "\tif root is None:\n",
    "\t\treturn\n",
    "\tprint(root.data)\n",
    "\tprint_tree(root.left)\n",
    "\tprint_tree(root.right)\n",
    "\n",
    "print_tree(A)"
   ]
  },
  {
   "cell_type": "markdown",
   "metadata": {},
   "source": [
    "<div align=\"center\">\n",
    "<img src=\"img/rtree.jpg\" alt=\"rtree.jpg\" width=\"800px\">\n",
    "</div>"
   ]
  },
  {
   "cell_type": "markdown",
   "metadata": {},
   "source": [
    "Here is a simple simulation of printing a binary tree."
   ]
  },
  {
   "cell_type": "markdown",
   "metadata": {},
   "source": [
    "<div align=\"center\">\n",
    "<img src=\"img/print_tree_left.jpg\" alt=\"print_tree_left.jpg\" width=\"1000px\">\n",
    "</div>"
   ]
  },
  {
   "cell_type": "markdown",
   "metadata": {},
   "source": [
    "#### Print Node with  Left Child and Right Child"
   ]
  },
  {
   "cell_type": "code",
   "execution_count": 4,
   "metadata": {},
   "outputs": [
    {
     "name": "stdout",
     "output_type": "stream",
     "text": [
      "A->L:B,R:C\n",
      "B->L:D,\n",
      "D->\n",
      "C->L:E,R:F\n",
      "E->\n",
      "F->\n"
     ]
    }
   ],
   "source": [
    "def print_tree_details(root):\n",
    "\t# print(l)\n",
    "\tif root is None:\n",
    "\t\treturn\n",
    "\t# printing root node\n",
    "\tprint(root.data,end=\"->\")\n",
    "\t# printing left node\n",
    "\tif root.left != None:\n",
    "\t\tprint(f\"L:{root.left.data}\",end=\",\")\n",
    "\t# printing right node\n",
    "\tif root.right != None:\n",
    "\t\tprint(f\"R:{root.right.data}\", end=\"\")\n",
    "\t\n",
    "\tprint()\n",
    "\tprint_tree_details(root.left)\n",
    "\tprint_tree_details(root.right)\n",
    "\n",
    "print_tree_details(A)"
   ]
  },
  {
   "cell_type": "markdown",
   "metadata": {},
   "source": [
    "### Print At Depth k"
   ]
  },
  {
   "cell_type": "code",
   "execution_count": 39,
   "metadata": {},
   "outputs": [],
   "source": [
    "def printDepthK(root, k):\n",
    "\tif root == None:\n",
    "\t\treturn\n",
    "\tif k == 0:\n",
    "\t\tprint(root.data)\n",
    "\t\treturn\n",
    "\tprintDepthK(root.left, k - 1)\n",
    "\tprintDepthK(root.right, k - 1)\n"
   ]
  },
  {
   "cell_type": "code",
   "execution_count": 40,
   "metadata": {},
   "outputs": [
    {
     "name": "stdout",
     "output_type": "stream",
     "text": [
      "D\n",
      "E\n",
      "F\n"
     ]
    }
   ],
   "source": [
    "printDepthK(A,2)"
   ]
  },
  {
   "cell_type": "code",
   "execution_count": 47,
   "metadata": {},
   "outputs": [],
   "source": [
    "def printDepthKV2(root,k, d=0):\n",
    "\tif root == None:\n",
    "\t\treturn\n",
    "\tif k == d:\n",
    "\t\tprint(root.data)\n",
    "\t\treturn\n",
    "\tprintDepthKV2(root.left,k, d + 1)\n",
    "\tprintDepthKV2(root.right, k, d + 1)\n"
   ]
  },
  {
   "cell_type": "code",
   "execution_count": 48,
   "metadata": {},
   "outputs": [
    {
     "name": "stdout",
     "output_type": "stream",
     "text": [
      "D\n",
      "E\n",
      "F\n"
     ]
    }
   ],
   "source": [
    "printDepthKV2(A,2)"
   ]
  },
  {
   "cell_type": "markdown",
   "metadata": {},
   "source": [
    "## Input of Binary Tree"
   ]
  },
  {
   "cell_type": "code",
   "execution_count": 2,
   "metadata": {},
   "outputs": [],
   "source": [
    "def takeInput():\n",
    "\trootData = int(input())\n",
    "\tif rootData == -1:\n",
    "\t\treturn None\n",
    "\n",
    "\troot = BinaryTreeNode(rootData)\n",
    "\tleftTree = takeInput()\n",
    "\trightTree = takeInput()\n",
    "\troot.left = leftTree\n",
    "\troot.right = rightTree\n",
    "\treturn root\n"
   ]
  },
  {
   "cell_type": "code",
   "execution_count": 7,
   "metadata": {},
   "outputs": [
    {
     "name": "stdout",
     "output_type": "stream",
     "text": [
      "1->L:2,R:3\n",
      "2->L:4,R:5\n",
      "4->\n",
      "5->\n",
      "3->R:7\n",
      "7->\n"
     ]
    }
   ],
   "source": [
    "root = takeInput() # 1 2 4 -1 -1 5 -1 -1 3 -1 7 -1 -1\n",
    "print_tree_details(root)\n"
   ]
  },
  {
   "cell_type": "markdown",
   "metadata": {},
   "source": [
    "## Number of Nodes in Binary Tree"
   ]
  },
  {
   "cell_type": "markdown",
   "metadata": {},
   "source": [
    "- `Base Case`: `if root == None: return 0`\n",
    "- `Induction Hypothesis`: \n",
    "  - leftTree will give total number of nodes in leftTree = `totalNodesInLeftTree`\n",
    "  - rightTree will give total number of nodes in rightTree = `totalNodesInRightTree`\n",
    "- `Recursive Step`:\n",
    "  - `1(root) + totalNodesInLeftTree + totalNodesInRightTree = totalNodesInTree`"
   ]
  },
  {
   "cell_type": "code",
   "execution_count": 13,
   "metadata": {},
   "outputs": [],
   "source": [
    "def numNodes(root):\n",
    "\tif root == None:\n",
    "\t\treturn 0\n",
    "\ttotalNodesInLeftTree = numNodes(root.left)\n",
    "\ttotalNodesInRightTree = numNodes(root.right)\n",
    "\ttotalNodesInTree = 1 + totalNodesInLeftTree + totalNodesInRightTree\n",
    "\treturn totalNodesInTree"
   ]
  },
  {
   "cell_type": "code",
   "execution_count": 14,
   "metadata": {},
   "outputs": [
    {
     "data": {
      "text/plain": [
       "6"
      ]
     },
     "execution_count": 14,
     "metadata": {},
     "output_type": "execute_result"
    }
   ],
   "source": [
    "numNodes(A)"
   ]
  },
  {
   "cell_type": "markdown",
   "metadata": {},
   "source": [
    "## Height of Binary Tree"
   ]
  },
  {
   "cell_type": "code",
   "execution_count": null,
   "metadata": {},
   "outputs": [],
   "source": [
    "def height(root):\n",
    "\tif root == None:\n",
    "\t\treturn 0\n",
    "\tleftHeight = height(root.left)\n",
    "\trightHeight = height(root.right)\n",
    "\treturn 1 + max(leftHeight, rightHeight)\n",
    "\t"
   ]
  },
  {
   "cell_type": "code",
   "execution_count": null,
   "metadata": {},
   "outputs": [
    {
     "data": {
      "text/plain": [
       "3"
      ]
     },
     "metadata": {},
     "output_type": "display_data"
    }
   ],
   "source": [
    "A = BinaryTreeNode(\"A\")\n",
    "B = BinaryTreeNode(\"B\")\n",
    "C = BinaryTreeNode(\"C\")\n",
    "E = BinaryTreeNode(\"E\")\n",
    "F = BinaryTreeNode(\"F\")\n",
    "\n",
    "A.left = B\n",
    "A.right = C\n",
    "C.left = E\n",
    "C.right = F\n",
    "\n",
    "height(A)"
   ]
  },
  {
   "cell_type": "markdown",
   "metadata": {},
   "source": [
    "### isBalanced"
   ]
  },
  {
   "cell_type": "code",
   "execution_count": null,
   "metadata": {},
   "outputs": [],
   "source": [
    "def isBalanced(root):\n",
    "\tif root == None:\n",
    "\t\treturn True\n",
    "\tleftHeight = height(root.left)\n",
    "\trightHeight = height(root.right)\n",
    "\tif abs(leftHeight - rightHeight) > 1:\n",
    "\t\treturn False\n",
    "\t\t\n",
    "\t# check if left and right subtree are balanced\n",
    "\tisLeftBalanced = isBalanced(root.left)\n",
    "\tisRightBalanced = isBalanced(root.right)\n",
    "\tif isLeftBalanced and isRightBalanced:\n",
    "\t\treturn True\n",
    "\telse:\n",
    "\t\treturn False"
   ]
  },
  {
   "cell_type": "code",
   "execution_count": null,
   "metadata": {},
   "outputs": [
    {
     "data": {
      "text/plain": [
       "True"
      ]
     },
     "metadata": {},
     "output_type": "display_data"
    }
   ],
   "source": [
    "A = BinaryTreeNode(\"A\")\n",
    "B = BinaryTreeNode(\"B\")\n",
    "C = BinaryTreeNode(\"C\")\n",
    "E = BinaryTreeNode(\"E\")\n",
    "F = BinaryTreeNode(\"F\")\n",
    "\n",
    "A.left = B\n",
    "A.right = C\n",
    "C.left = E\n",
    "C.right = F\n",
    "\n",
    "isBalanced(A)"
   ]
  },
  {
   "cell_type": "code",
   "execution_count": null,
   "metadata": {},
   "outputs": [
    {
     "data": {
      "text/plain": [
       "False"
      ]
     },
     "metadata": {},
     "output_type": "display_data"
    }
   ],
   "source": [
    "A = BinaryTreeNode(\"A\")\n",
    "B = BinaryTreeNode(\"B\")\n",
    "C = BinaryTreeNode(\"C\")\n",
    "D = BinaryTreeNode(\"D\")\n",
    "E = BinaryTreeNode(\"E\")\n",
    "F = BinaryTreeNode(\"F\")\n",
    "\n",
    "A.left = B\n",
    "A.right = C\n",
    "C.left = E\n",
    "C.right = F\n",
    "E.left = D\n",
    "\n",
    "isBalanced(A)"
   ]
  },
  {
   "cell_type": "markdown",
   "metadata": {},
   "source": [
    "### v2: getHeight+checkBalance"
   ]
  },
  {
   "cell_type": "code",
   "execution_count": null,
   "metadata": {},
   "outputs": [],
   "source": [
    "def getHeightAndCheckBalanced(root):\n",
    "\tif root == None:\n",
    "\t\treturn 0, True\n",
    "\t\n",
    "\tleftHeight, isLeftBalanced = getHeightAndCheckBalanced(root.left)\n",
    "\trightHeight, isRightBalanced = getHeightAndCheckBalanced(root.right)\n",
    "\t\n",
    "\theight = 1 + max(leftHeight, rightHeight)\n",
    "\t\n",
    "\tif abs(leftHeight - rightHeight) > 1:\n",
    "\t\treturn height, False\n",
    "\t\n",
    "\tif isLeftBalanced and isRightBalanced:\n",
    "\t\treturn height, True\n",
    "\telse:\n",
    "\t\treturn height, False\n",
    "\t"
   ]
  },
  {
   "cell_type": "code",
   "execution_count": null,
   "metadata": {},
   "outputs": [
    {
     "data": {
      "text/plain": [
       "(3, True)"
      ]
     },
     "metadata": {},
     "output_type": "display_data"
    }
   ],
   "source": [
    "A = BinaryTreeNode(\"A\")\n",
    "B = BinaryTreeNode(\"B\")\n",
    "C = BinaryTreeNode(\"C\")\n",
    "E = BinaryTreeNode(\"E\")\n",
    "F = BinaryTreeNode(\"F\")\n",
    "\n",
    "A.left = B\n",
    "A.right = C\n",
    "C.left = E\n",
    "C.right = F\n",
    "\n",
    "getHeightAndCheckBalanced(A)"
   ]
  },
  {
   "cell_type": "code",
   "execution_count": null,
   "metadata": {},
   "outputs": [
    {
     "data": {
      "text/plain": [
       "(4, False)"
      ]
     },
     "metadata": {},
     "output_type": "display_data"
    }
   ],
   "source": [
    "A = BinaryTreeNode(\"A\")\n",
    "B = BinaryTreeNode(\"B\")\n",
    "C = BinaryTreeNode(\"C\")\n",
    "D = BinaryTreeNode(\"D\")\n",
    "E = BinaryTreeNode(\"E\")\n",
    "F = BinaryTreeNode(\"F\")\n",
    "\n",
    "A.left = B\n",
    "A.right = C\n",
    "C.left = E\n",
    "C.right = F\n",
    "E.left = D\n",
    "\n",
    "getHeightAndCheckBalanced(A)"
   ]
  },
  {
   "cell_type": "markdown",
   "metadata": {},
   "source": [
    "## Largest Node"
   ]
  },
  {
   "cell_type": "markdown",
   "metadata": {},
   "source": [
    "- `Base Case`: `if root == None: return -1`\n",
    "- `Induction Hypothesis`: \n",
    "  - leftTree will give the largest node in leftTree = `largestNodeInLeftTree`\n",
    "  - rightTree will give largest node in rightTree = `largestNodeInRightTree`\n",
    "- `Recursive Step`:\n",
    "  - `Max(root,largestNodeInLeftTree, largestNodeInRightTree) = largestNodeInTree`"
   ]
  },
  {
   "cell_type": "code",
   "execution_count": 9,
   "metadata": {},
   "outputs": [
    {
     "name": "stdout",
     "output_type": "stream",
     "text": [
      "10->L:20,R:5\n",
      "20->L:4,R:3\n",
      "4->\n",
      "3->\n",
      "5->\n"
     ]
    }
   ],
   "source": [
    "A = BinaryTreeNode(10)\n",
    "B = BinaryTreeNode(20)\n",
    "C = BinaryTreeNode(5)\n",
    "D = BinaryTreeNode(4)\n",
    "E = BinaryTreeNode(3)\n",
    "\n",
    "A.left = B\n",
    "A.right = C\n",
    "B.left = D\n",
    "B.right = E\n",
    "\n",
    "print_tree_details(A)"
   ]
  },
  {
   "cell_type": "code",
   "execution_count": 10,
   "metadata": {},
   "outputs": [],
   "source": [
    "def findLargestNode(root):\n",
    "\tif root ==None:\n",
    "\t\treturn -1\n",
    "\tlargestNodeInLeftTree = findLargestNode(root.left)\n",
    "\tlargestNodeInRightTree = findLargestNode(root.right)\n",
    "\tlargestNodeInTree = max(root.data, largestNodeInLeftTree, largestNodeInRightTree)\n",
    "\treturn largestNodeInTree\n"
   ]
  },
  {
   "cell_type": "code",
   "execution_count": 11,
   "metadata": {},
   "outputs": [
    {
     "data": {
      "text/plain": [
       "20"
      ]
     },
     "execution_count": 11,
     "metadata": {},
     "output_type": "execute_result"
    }
   ],
   "source": [
    "findLargestNode(A)"
   ]
  },
  {
   "cell_type": "markdown",
   "metadata": {},
   "source": [
    "## Number of Leaf Nodes"
   ]
  },
  {
   "cell_type": "markdown",
   "metadata": {},
   "source": [
    "<div align=\"center\">\n",
    "<img src=\"img/leaf.jpg\" alt=\"leaf.jpg\" width=\"800px\">\n",
    "</div>"
   ]
  },
  {
   "cell_type": "code",
   "execution_count": 7,
   "metadata": {},
   "outputs": [],
   "source": [
    "def numLeafNodes(root):\n",
    "\tif root == None:\n",
    "\t\treturn 0\n",
    "\t# both both left and right are leaf nodes are None - means they are leaf nodes\n",
    "\tif root.left == None and root.right == None:\n",
    "\t\treturn 1\n",
    "\t\n",
    "\ttotalLeafNodesInLeftTree = numLeafNodes(root.left)\n",
    "\ttotalLeafNodesInRightTree = numLeafNodes(root.right)\n",
    "\ttotalLeafNodesInTree = totalLeafNodesInLeftTree + totalLeafNodesInRightTree\n",
    "\treturn totalLeafNodesInTree\n",
    "\t"
   ]
  },
  {
   "cell_type": "code",
   "execution_count": 12,
   "metadata": {},
   "outputs": [
    {
     "data": {
      "text/plain": [
       "3"
      ]
     },
     "execution_count": 12,
     "metadata": {},
     "output_type": "execute_result"
    }
   ],
   "source": [
    "A = BinaryTreeNode(\"A\")\n",
    "B = BinaryTreeNode(\"B\")\n",
    "C = BinaryTreeNode(\"C\")\n",
    "D = BinaryTreeNode(\"D\")\n",
    "E = BinaryTreeNode(\"E\")\n",
    "F = BinaryTreeNode(\"F\")\n",
    "\n",
    "A.left = B\n",
    "A.right = C\n",
    "C.left = E\n",
    "C.right = F\n",
    "\n",
    "numLeafNodes(A)"
   ]
  },
  {
   "cell_type": "markdown",
   "metadata": {},
   "source": [
    "## Remove Leaf Nodes"
   ]
  },
  {
   "cell_type": "markdown",
   "metadata": {},
   "source": [
    "<div align=\"center\">\n",
    "<img src=\"img/rml.jpg\" alt=\"rml.jpg\" width=\"600px\">\n",
    "</div>"
   ]
  },
  {
   "cell_type": "code",
   "execution_count": 46,
   "metadata": {},
   "outputs": [
    {
     "name": "stdout",
     "output_type": "stream",
     "text": [
      "1->L:2,R:3\n",
      "2->L:4,R:5\n",
      "4->\n",
      "5->L:6,R:7\n",
      "6->\n",
      "7->\n",
      "3->L:8,R:9\n",
      "8->\n",
      "9->\n"
     ]
    }
   ],
   "source": [
    "x1 = BinaryTreeNode(\"1\")\n",
    "x2 = BinaryTreeNode(\"2\")\n",
    "x3 = BinaryTreeNode(\"3\")\n",
    "x4 = BinaryTreeNode(\"4\")\n",
    "x5 = BinaryTreeNode(\"5\")\n",
    "x6 = BinaryTreeNode(\"6\")\n",
    "x7 = BinaryTreeNode(\"7\")\n",
    "x8 = BinaryTreeNode(\"8\")\n",
    "x9 = BinaryTreeNode(\"9\")\n",
    "\n",
    "\n",
    "x1.left = x2\n",
    "x1.right = x3\n",
    "x2.left = x4\n",
    "x2.right = x5\n",
    "x5.left = x6\n",
    "x5.right = x7\n",
    "x3.left = x8\n",
    "x3.right = x9\n",
    "print_tree_details(x1)"
   ]
  },
  {
   "cell_type": "code",
   "execution_count": 47,
   "metadata": {},
   "outputs": [],
   "source": [
    "def removeLeafNodes(root):\n",
    "\tif root == None:\n",
    "\t\treturn None\n",
    "\t\n",
    "\tif root.left == None and root.right == None:\n",
    "\t\treturn None\n",
    "\t\n",
    "\troot.left = removeLeafNodes(root.left)\n",
    "\troot.right = removeLeafNodes(root.right)\n",
    "\treturn root"
   ]
  },
  {
   "cell_type": "code",
   "execution_count": 48,
   "metadata": {},
   "outputs": [
    {
     "name": "stdout",
     "output_type": "stream",
     "text": [
      "1->L:2,R:3\n",
      "2->R:5\n",
      "5->\n",
      "3->\n"
     ]
    }
   ],
   "source": [
    "root = removeLeafNodes(x1)\n",
    "print_tree_details(root)"
   ]
  },
  {
   "cell_type": "markdown",
   "metadata": {},
   "source": [
    "## Diameter of Binary Tree"
   ]
  },
  {
   "cell_type": "markdown",
   "metadata": {},
   "source": [
    "<div align=\"center\">\n",
    "<img src=\"img/diameter.jpg\" alt=\"diameter.jpg\" width=\"1000px\">\n",
    "</div>"
   ]
  },
  {
   "cell_type": "markdown",
   "metadata": {},
   "source": [
    "<div align=\"center\">\n",
    "<img src=\"img/diam1.jpg\" alt=\"diam1.jpg\" width=\"800px\">\n",
    "</div>"
   ]
  },
  {
   "cell_type": "code",
   "execution_count": 49,
   "metadata": {},
   "outputs": [],
   "source": [
    "def diameter(root):\n",
    "\tif root == None:\n",
    "\t\treturn 0\n",
    "\t\n",
    "\toption1 = height(root.left) + height(root.right)\n",
    "\toption2 = diameter(root.left)\n",
    "\toption3 = diameter(root.right)\n",
    "\t\n",
    "\treturn max(option1, max(option2, option3))"
   ]
  },
  {
   "cell_type": "code",
   "execution_count": 51,
   "metadata": {},
   "outputs": [
    {
     "name": "stdout",
     "output_type": "stream",
     "text": [
      "1->L:2,R:3\n",
      "2->L:4,R:5\n",
      "4->L:6,\n",
      "6->\n",
      "5->R:7\n",
      "7->\n",
      "3->\n"
     ]
    }
   ],
   "source": [
    "x1 = BinaryTreeNode(\"1\")\n",
    "x2 = BinaryTreeNode(\"2\")\n",
    "x3 = BinaryTreeNode(\"3\")\n",
    "x4 = BinaryTreeNode(\"4\")\n",
    "x5 = BinaryTreeNode(\"5\")\n",
    "x6 = BinaryTreeNode(\"6\")\n",
    "x7 = BinaryTreeNode(\"7\")\n",
    "\n",
    "x1.left = x2\n",
    "x1.right = x3\n",
    "x2.left = x4\n",
    "x2.right = x5\n",
    "x4.left = x6\n",
    "x5.right = x7\n",
    "\n",
    "print_tree_details(x1)\n"
   ]
  },
  {
   "cell_type": "code",
   "execution_count": 52,
   "metadata": {},
   "outputs": [
    {
     "data": {
      "text/plain": [
       "4"
      ]
     },
     "execution_count": 52,
     "metadata": {},
     "output_type": "execute_result"
    }
   ],
   "source": [
    "diameter(x1)"
   ]
  },
  {
   "cell_type": "markdown",
   "metadata": {},
   "source": [
    "## Level Order Traversal"
   ]
  },
  {
   "cell_type": "markdown",
   "metadata": {},
   "source": [
    "- Add the root to the queue\n",
    "- current elements in the queue represents the current level elements\n",
    "  - so, for every element in the queue\n",
    "    - pop the element\n",
    "    - append to the current level list\n",
    "    - add all the children of the popped element to the queue; this will add the next level elements to the queue\n"
   ]
  },
  {
   "cell_type": "markdown",
   "metadata": {},
   "source": [
    "<div align=\"center\">\n",
    "<img src=\"img/tree.jpg\" alt=\"tree.jpg\" width=\"400px\">\n",
    "</div>"
   ]
  },
  {
   "cell_type": "code",
   "execution_count": 57,
   "metadata": {},
   "outputs": [
    {
     "name": "stdout",
     "output_type": "stream",
     "text": [
      "1->L:2,R:3\n",
      "2->L:4,R:5\n",
      "4->\n",
      "5->L:6,R:7\n",
      "6->\n",
      "7->\n",
      "3->L:8,R:9\n",
      "8->\n",
      "9->\n"
     ]
    }
   ],
   "source": [
    "x1 = BinaryTreeNode(\"1\")\n",
    "x2 = BinaryTreeNode(\"2\")\n",
    "x3 = BinaryTreeNode(\"3\")\n",
    "x4 = BinaryTreeNode(\"4\")\n",
    "x5 = BinaryTreeNode(\"5\")\n",
    "x6 = BinaryTreeNode(\"6\")\n",
    "x7 = BinaryTreeNode(\"7\")\n",
    "x8 = BinaryTreeNode(\"8\")\n",
    "x9 = BinaryTreeNode(\"9\")\n",
    "\n",
    "\n",
    "x1.left = x2\n",
    "x1.right = x3\n",
    "x2.left = x4\n",
    "x2.right = x5\n",
    "x5.left = x6\n",
    "x5.right = x7\n",
    "x3.left = x8\n",
    "x3.right = x9\n",
    "print_tree_details(x1)"
   ]
  },
  {
   "cell_type": "code",
   "execution_count": 59,
   "metadata": {},
   "outputs": [
    {
     "data": {
      "text/plain": [
       "[['1'], ['2', '3'], ['4', '5', '8', '9'], ['6', '7']]"
      ]
     },
     "execution_count": 59,
     "metadata": {},
     "output_type": "execute_result"
    }
   ],
   "source": [
    "from collections import deque\n",
    "\n",
    "def get_level_order(root):\n",
    "\tif root == None:\n",
    "\t\treturn\n",
    "\t\n",
    "\tq = deque()\n",
    "\tq.append(root)\n",
    "\t\n",
    "\tlevel_order_list = []\n",
    "\t\n",
    "\t\n",
    "\twhile len(q) > 0:\n",
    "\t\tcurrentLevel = []\n",
    "\t\t# current elements in the queue represents the current level elements\n",
    "\t\telementsInCurrentLevel = len(q)\n",
    "\t\t# so, for every element in the queue\n",
    "\t\tfor i in range(elementsInCurrentLevel):\n",
    "\t\t\t# get current level element\n",
    "\t\t\tcurrentNode = q.popleft()\n",
    "\t\t\tcurrentLevel.append(currentNode.data)\n",
    "\t\t\t\n",
    "\t\t\t# add its children to the queue for next level\n",
    "\t\t\tif currentNode.left != None:\n",
    "\t\t\t\tq.append(currentNode.left)\n",
    "\t\t\tif currentNode.right != None:\n",
    "\t\t\t\tq.append(currentNode.right) \n",
    "\t\tlevel_order_list.append(currentLevel)\n",
    "\t\t\n",
    "\treturn level_order_list\n",
    "\n",
    "get_level_order(x1)\n",
    "\t"
   ]
  },
  {
   "cell_type": "markdown",
   "metadata": {},
   "source": [
    "## Build Tree Using inOrder And PreOrder "
   ]
  },
  {
   "cell_type": "markdown",
   "metadata": {},
   "source": [
    "- **`root`**, `left`, `right` | `PreOrder`\n",
    "- `left`, **`root`**, `right` | `inOrder`"
   ]
  },
  {
   "cell_type": "markdown",
   "metadata": {},
   "source": [
    "<div align=\"center\">\n",
    "<img src=\"img/inpre.jpg\" alt=\"inpre.jpg\" width=\"700px\">\n",
    "</div>"
   ]
  },
  {
   "cell_type": "markdown",
   "metadata": {},
   "source": [
    "we need both inOrder and preorder to build a tree. \n",
    "algorithm:\n",
    "- `root` is the first element in `preorder`\n",
    "- find `inoder` of both `left` and `right` subtree\n",
    "- find `preorder` of both `left` and `right` subtree "
   ]
  },
  {
   "cell_type": "code",
   "execution_count": 70,
   "metadata": {},
   "outputs": [],
   "source": [
    "def buildTreeFromPreIn(pre,inOrder):\n",
    "\tif len(pre) == 0:\n",
    "\t\treturn None\n",
    "\t\n",
    "\trootData = pre[0]\n",
    "\troot = BinaryTreeNode(rootData)\n",
    "\trootIndexInOrder = -1\n",
    "\t\n",
    "\tfor i in range(0, len(inOrder)):\n",
    "\t\tif inOrder[i] == rootData:\n",
    "\t\t\trootIndexInOrder = i\n",
    "\t\t\tbreak\n",
    "\tif rootIndexInOrder == -1:\n",
    "\t\treturn None\n",
    "\t\n",
    "\tleftInOrder = inOrder[0:rootIndexInOrder]\n",
    "\trightInOrder = inOrder[rootIndexInOrder+1:]\n",
    "\t\n",
    "\tlengthOfLeftSubtree = len(leftInOrder)\n",
    "\tleftPreOrder = pre[1:lengthOfLeftSubtree+1]\n",
    "\trightPreOrder = pre[lengthOfLeftSubtree+1:]\n",
    "\t\n",
    "\tleftChild = buildTreeFromPreIn(leftPreOrder, leftInOrder)\n",
    "\trightChild = buildTreeFromPreIn(rightPreOrder, rightInOrder)\n",
    "\t\n",
    "\troot.left = leftChild\n",
    "\troot.right = rightChild\n",
    "\t\n",
    "\treturn root"
   ]
  },
  {
   "cell_type": "code",
   "execution_count": 69,
   "metadata": {},
   "outputs": [
    {
     "name": "stdout",
     "output_type": "stream",
     "text": [
      "1->L:2,R:3\n",
      "2->L:4,R:5\n",
      "4->\n",
      "5->\n",
      "3->L:6,R:7\n",
      "6->\n",
      "7->\n"
     ]
    }
   ],
   "source": [
    "pre = [1, 2, 4, 5, 3, 6, 7]\n",
    "inOrder = [4, 2, 5, 1, 6, 3, 7]\n",
    "\n",
    "root = buildTreeFromPreIn(pre, inOrder)\n",
    "print_tree_details(root)"
   ]
  }
 ],
 "metadata": {
  "kernelspec": {
   "display_name": "Python 3.9.7 ('base')",
   "language": "python",
   "name": "python3"
  },
  "language_info": {
   "codemirror_mode": {
    "name": "ipython",
    "version": 3
   },
   "file_extension": ".py",
   "mimetype": "text/x-python",
   "name": "python",
   "nbconvert_exporter": "python",
   "pygments_lexer": "ipython3",
   "version": "3.9.12"
  },
  "orig_nbformat": 2,
  "vscode": {
   "interpreter": {
    "hash": "13a64c48d63ab7fa89dd239a6172cf842d756bd82fcb4ba948a9115b41dc50a1"
   }
  }
 },
 "nbformat": 4,
 "nbformat_minor": 2
}
