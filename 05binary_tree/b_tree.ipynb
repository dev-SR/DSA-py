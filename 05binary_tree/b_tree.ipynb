{
 "cells": [
  {
   "cell_type": "markdown",
   "metadata": {},
   "source": [
    "# Binary Tree"
   ]
  },
  {
   "cell_type": "code",
   "execution_count": null,
   "metadata": {},
   "outputs": [],
   "source": [
    "\"\"\"\n",
    "jupyter nbconvert --to markdown b_tree.ipynb --output README.md\n",
    "\n",
    "<div align=\"center\">\n",
    "<img src=\"img/reversing_stack.jpg\" alt=\"rec\" width=\"900px\">\n",
    "</div> \n",
    "\"\"\"\n"
   ]
  },
  {
   "cell_type": "markdown",
   "metadata": {},
   "source": [
    "## Introduction\n"
   ]
  },
  {
   "cell_type": "markdown",
   "metadata": {},
   "source": [
    "A binary tree is a tree data structure in which each parent node can have `0`,`1` or at most `2` children. Each node of a binary tree consists of three items:\n",
    "\n",
    "- data item\n",
    "- address of left child\n",
    "- address of right child\n",
    "\n",
    "<div align=\"center\">\n",
    "<img src=\"img/tree_intro.jpg\" alt=\"rec\" width=\"700px\">\n",
    "</div> "
   ]
  },
  {
   "cell_type": "markdown",
   "metadata": {},
   "source": [
    "## Creating Binary Tree"
   ]
  },
  {
   "cell_type": "code",
   "execution_count": 2,
   "metadata": {},
   "outputs": [],
   "source": [
    "class BinaryTreeNode:\n",
    "\tdef __init__(self, data):\n",
    "\t\tself.data = data\n",
    "\t\tself.left = None\n",
    "\t\tself.right = None\n",
    "\n",
    "\tdef __str__(self):\n",
    "\t\treturn str(self.data)"
   ]
  },
  {
   "cell_type": "code",
   "execution_count": 3,
   "metadata": {},
   "outputs": [],
   "source": [
    "btn1 = BinaryTreeNode(1)\n",
    "btn2 = BinaryTreeNode(2)\n",
    "btn3 = BinaryTreeNode(3)"
   ]
  },
  {
   "cell_type": "code",
   "execution_count": 4,
   "metadata": {},
   "outputs": [],
   "source": [
    "btn1.left = btn2\n",
    "btn1.right = btn3"
   ]
  },
  {
   "cell_type": "markdown",
   "metadata": {},
   "source": [
    "## Printing Binary Tree"
   ]
  },
  {
   "cell_type": "code",
   "execution_count": 5,
   "metadata": {},
   "outputs": [
    {
     "name": "stdout",
     "output_type": "stream",
     "text": [
      "1\n",
      "2\n",
      "3\n"
     ]
    }
   ],
   "source": [
    "def print_tree(root):\n",
    "\tif root is None:\n",
    "\t\treturn\n",
    "\tprint(root.data)\n",
    "\tprint_tree(root.left)\n",
    "\tprint_tree(root.right)\n",
    "\n",
    "print_tree(btn1)"
   ]
  },
  {
   "cell_type": "code",
   "execution_count": 72,
   "metadata": {},
   "outputs": [
    {
     "name": "stdout",
     "output_type": "stream",
     "text": [
      "          A\n",
      "         ⬋⬊\n",
      "        B   C\n",
      "          B\n",
      "         ⬋⬊\n",
      "        D  ✖\n",
      "          D\n",
      "         ⬋⬊\n",
      "        ✖  ✖\n",
      "\n",
      "\n",
      "          C\n",
      "         ⬋⬊\n",
      "        E   F\n",
      "          E\n",
      "         ⬋⬊\n",
      "        ✖  ✖\n",
      "\n",
      "          F\n",
      "         ⬋⬊\n",
      "        ✖  ✖\n",
      "\n",
      "\n",
      "\n"
     ]
    }
   ],
   "source": [
    "def print_tree_details(root):\n",
    "\tif root is None:\n",
    "\t\treturn\n",
    "\t# printing root node\n",
    "\tprint(\" \"*10,end=\"\")\n",
    "\tprint(root.data)\n",
    "\tprint(\" \"*9, end=\"\")\n",
    "\tprint(\"⬋⬊\")\n",
    "\t# printing left node\n",
    "\tif root.left != None:\n",
    "\t\tprint(\" \"*8, end=\"\")\n",
    "\t\tprint(root.left.data,end=\"\")\n",
    "\telse:\n",
    "\t\tprint(\" \"*8, end=\"\")\n",
    "\t\tprint(\"✖\", end=\"\")\n",
    "\t# printing right node\n",
    "\tif root.right != None:\n",
    "\t\tprint(\" \"*3, end=\"\")\n",
    "\t\tprint(root.right.data)\n",
    "\telse:\n",
    "\t\tprint(\" \"*2, end=\"\")\n",
    "\t\tprint(\"✖\")\n",
    "\t\n",
    "\tprint_tree_details(root.left)\n",
    "\tprint_tree_details(root.right)\n",
    "\tprint()\n",
    "\n",
    "\n",
    "btn = BinaryTreeNode(\"A\")\n",
    "btn1 = BinaryTreeNode(\"B\")\n",
    "btn2 = BinaryTreeNode(\"C\")\n",
    "btn.left = btn1\n",
    "btn.right = btn2\n",
    "btn3 = BinaryTreeNode(\"D\")\n",
    "btn1.left = btn3\n",
    "btn4 = BinaryTreeNode(\"E\")\n",
    "btn5 = BinaryTreeNode(\"F\")\n",
    "btn2.left = btn4\n",
    "btn2.right = btn5\n",
    "print_tree_details(btn)\n"
   ]
  }
 ],
 "metadata": {
  "interpreter": {
   "hash": "8cdb09b0bc1c395d296938b19fe7764d972a7ceeffba4d3ad7ff6a3771581719"
  },
  "kernelspec": {
   "display_name": "Python 3.8.8 64-bit ('ProgramData': virtualenv)",
   "language": "python",
   "name": "python3"
  },
  "language_info": {
   "codemirror_mode": {
    "name": "ipython",
    "version": 3
   },
   "file_extension": ".py",
   "mimetype": "text/x-python",
   "name": "python",
   "nbconvert_exporter": "python",
   "pygments_lexer": "ipython3",
   "version": "3.8.8"
  },
  "orig_nbformat": 2
 },
 "nbformat": 4,
 "nbformat_minor": 2
}
