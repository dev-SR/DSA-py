{
 "cells": [
  {
   "cell_type": "markdown",
   "metadata": {},
   "source": [
    "# Binary Tree"
   ]
  },
  {
   "cell_type": "code",
   "execution_count": 2,
   "metadata": {},
   "outputs": [],
   "source": [
    "\"\"\"\n",
    "cd .\\05binary_tree\\\n",
    "jupyter nbconvert --to markdown b_tree.ipynb --output README.md\n",
    "\"\"\"\n"
   ]
  },
  {
   "cell_type": "markdown",
   "metadata": {},
   "source": [
    "## Introduction\n"
   ]
  },
  {
   "cell_type": "markdown",
   "metadata": {},
   "source": [
    "A binary tree is a tree data structure in which each parent node can have `0`,`1` or at most `2` children. Each node of a binary tree consists of three items:\n",
    "\n",
    "- data item\n",
    "- address of left child\n",
    "- address of right child\n",
    "\n",
    "<div align=\"center\">\n",
    "<img src=\"img/tree_intro.jpg\" alt=\"rec\" width=\"500px\">\n",
    "</div> "
   ]
  },
  {
   "cell_type": "markdown",
   "metadata": {},
   "source": [
    "## Creating Binary Tree"
   ]
  },
  {
   "cell_type": "code",
   "execution_count": 1,
   "metadata": {},
   "outputs": [],
   "source": [
    "class BinaryTreeNode:\n",
    "\tdef __init__(self, data):\n",
    "\t\tself.data = data\n",
    "\t\tself.left = None\n",
    "\t\tself.right = None\n",
    "\n",
    "\tdef __str__(self):\n",
    "\t\treturn str(self.data)"
   ]
  },
  {
   "cell_type": "code",
   "execution_count": 23,
   "metadata": {},
   "outputs": [],
   "source": [
    "A = BinaryTreeNode(\"A\")\n",
    "B = BinaryTreeNode(\"B\")\n",
    "C = BinaryTreeNode(\"C\")\n",
    "D = BinaryTreeNode(\"D\")\n",
    "E = BinaryTreeNode(\"E\")\n",
    "F = BinaryTreeNode(\"F\")\n",
    "\n",
    "A.left = B\n",
    "A.right = C\n",
    "B.left = D\n",
    "C.left = E\n",
    "C.right = F"
   ]
  },
  {
   "cell_type": "markdown",
   "metadata": {},
   "source": [
    "## Printing Binary Tree"
   ]
  },
  {
   "cell_type": "markdown",
   "metadata": {},
   "source": [
    "### Print All Nodes"
   ]
  },
  {
   "cell_type": "markdown",
   "metadata": {},
   "source": [
    "- `base case`: Check if the given node is `null`. If `null`, then `return` from the function.\n",
    "- `Inductive step`: Print the data/root of the given node.\n",
    "- `Hypothesis`: recursive function will print\n",
    "  - left subtree\n",
    "  - then, right subtree"
   ]
  },
  {
   "cell_type": "code",
   "execution_count": 24,
   "metadata": {},
   "outputs": [
    {
     "name": "stdout",
     "output_type": "stream",
     "text": [
      "A\n",
      "B\n",
      "D\n",
      "C\n",
      "E\n",
      "F\n"
     ]
    }
   ],
   "source": [
    "def print_tree(root):\n",
    "\tif root is None:\n",
    "\t\treturn\n",
    "\tprint(root.data)\n",
    "\tprint_tree(root.left)\n",
    "\tprint_tree(root.right)\n",
    "\n",
    "print_tree(A)"
   ]
  },
  {
   "cell_type": "markdown",
   "metadata": {},
   "source": [
    "<div align=\"center\">\n",
    "<img src=\"img/rtree.jpg\" alt=\"rtree.jpg\" width=\"800px\">\n",
    "</div>"
   ]
  },
  {
   "cell_type": "markdown",
   "metadata": {},
   "source": [
    "Here is a simple simulation of printing a binary tree."
   ]
  },
  {
   "cell_type": "markdown",
   "metadata": {},
   "source": [
    "<div align=\"center\">\n",
    "<img src=\"img/print_tree_left.jpg\" alt=\"print_tree_left.jpg\" width=\"1000px\">\n",
    "</div>"
   ]
  },
  {
   "cell_type": "markdown",
   "metadata": {},
   "source": [
    "#### Print Node with  Left Child and Right Child"
   ]
  },
  {
   "cell_type": "code",
   "execution_count": 25,
   "metadata": {},
   "outputs": [
    {
     "name": "stdout",
     "output_type": "stream",
     "text": [
      "A->L:B,R:C\n",
      "B->L:D,\n",
      "D->\n",
      "C->L:E,R:F\n",
      "E->\n",
      "F->\n"
     ]
    }
   ],
   "source": [
    "def print_tree_details(root):\n",
    "\t# print(l)\n",
    "\tif root is None:\n",
    "\t\treturn\n",
    "\t# printing root node\n",
    "\tprint(root.data,end=\"->\")\n",
    "\t# printing left node\n",
    "\tif root.left != None:\n",
    "\t\tprint(f\"L:{root.left.data}\",end=\",\")\n",
    "\t# printing right node\n",
    "\tif root.right != None:\n",
    "\t\tprint(f\"R:{root.right.data}\", end=\"\")\n",
    "\t\n",
    "\tprint()\n",
    "\tprint_tree_details(root.left)\n",
    "\tprint_tree_details(root.right)\n",
    "\n",
    "print_tree_details(A)"
   ]
  },
  {
   "cell_type": "markdown",
   "metadata": {},
   "source": [
    "### Print At Depth k"
   ]
  },
  {
   "cell_type": "code",
   "execution_count": 39,
   "metadata": {},
   "outputs": [],
   "source": [
    "def printDepthK(root, k):\n",
    "\tif root == None:\n",
    "\t\treturn\n",
    "\tif k == 0:\n",
    "\t\tprint(root.data)\n",
    "\t\treturn\n",
    "\tprintDepthK(root.left, k - 1)\n",
    "\tprintDepthK(root.right, k - 1)\n"
   ]
  },
  {
   "cell_type": "code",
   "execution_count": 40,
   "metadata": {},
   "outputs": [
    {
     "name": "stdout",
     "output_type": "stream",
     "text": [
      "D\n",
      "E\n",
      "F\n"
     ]
    }
   ],
   "source": [
    "printDepthK(A,2)"
   ]
  },
  {
   "cell_type": "code",
   "execution_count": 47,
   "metadata": {},
   "outputs": [],
   "source": [
    "def printDepthKV2(root,k, d=0):\n",
    "\tif root == None:\n",
    "\t\treturn\n",
    "\tif k == d:\n",
    "\t\tprint(root.data)\n",
    "\t\treturn\n",
    "\tprintDepthKV2(root.left,k, d + 1)\n",
    "\tprintDepthKV2(root.right, k, d + 1)\n"
   ]
  },
  {
   "cell_type": "code",
   "execution_count": 48,
   "metadata": {},
   "outputs": [
    {
     "name": "stdout",
     "output_type": "stream",
     "text": [
      "D\n",
      "E\n",
      "F\n"
     ]
    }
   ],
   "source": [
    "printDepthKV2(A,2)"
   ]
  },
  {
   "cell_type": "markdown",
   "metadata": {},
   "source": [
    "## Input of Binary Tree"
   ]
  },
  {
   "cell_type": "code",
   "execution_count": 2,
   "metadata": {},
   "outputs": [],
   "source": [
    "def takeInput():\n",
    "\trootData = int(input())\n",
    "\tif rootData == -1:\n",
    "\t\treturn None\n",
    "\n",
    "\troot = BinaryTreeNode(rootData)\n",
    "\tleftTree = takeInput()\n",
    "\trightTree = takeInput()\n",
    "\troot.left = leftTree\n",
    "\troot.right = rightTree\n",
    "\treturn root\n"
   ]
  },
  {
   "cell_type": "code",
   "execution_count": 7,
   "metadata": {},
   "outputs": [
    {
     "name": "stdout",
     "output_type": "stream",
     "text": [
      "1->L:2,R:3\n",
      "2->L:4,R:5\n",
      "4->\n",
      "5->\n",
      "3->R:7\n",
      "7->\n"
     ]
    }
   ],
   "source": [
    "root = takeInput() # 1 2 4 -1 -1 5 -1 -1 3 -1 7 -1 -1\n",
    "print_tree_details(root)\n"
   ]
  },
  {
   "cell_type": "markdown",
   "metadata": {},
   "source": [
    "## Number of Nodes in Binary Tree"
   ]
  },
  {
   "cell_type": "markdown",
   "metadata": {},
   "source": [
    "- `Base Case`: `if root == None: return 0`\n",
    "- `Induction Hypothesis`: \n",
    "  - leftTree will give total number of nodes in leftTree = `totalNodesInLeftTree`\n",
    "  - rightTree will give total number of nodes in rightTree = `totalNodesInRightTree`\n",
    "- `Recursive Step`:\n",
    "  - `1(root) + totalNodesInLeftTree + totalNodesInRightTree = totalNodesInTree`"
   ]
  },
  {
   "cell_type": "code",
   "execution_count": 13,
   "metadata": {},
   "outputs": [],
   "source": [
    "def numNodes(root):\n",
    "\tif root == None:\n",
    "\t\treturn 0\n",
    "\ttotalNodesInLeftTree = numNodes(root.left)\n",
    "\ttotalNodesInRightTree = numNodes(root.right)\n",
    "\ttotalNodesInTree = 1 + totalNodesInLeftTree + totalNodesInRightTree\n",
    "\treturn totalNodesInTree"
   ]
  },
  {
   "cell_type": "code",
   "execution_count": 14,
   "metadata": {},
   "outputs": [
    {
     "data": {
      "text/plain": [
       "6"
      ]
     },
     "execution_count": 14,
     "metadata": {},
     "output_type": "execute_result"
    }
   ],
   "source": [
    "numNodes(A)"
   ]
  },
  {
   "cell_type": "markdown",
   "metadata": {},
   "source": [
    "## Largest Node"
   ]
  },
  {
   "cell_type": "markdown",
   "metadata": {},
   "source": [
    "- `Base Case`: `if root == None: return -1`\n",
    "- `Induction Hypothesis`: \n",
    "  - leftTree will give the largest node in leftTree = `largestNodeInLeftTree`\n",
    "  - rightTree will give largest node in rightTree = `largestNodeInRightTree`\n",
    "- `Recursive Step`:\n",
    "  - `Max(root,largestNodeInLeftTree, largestNodeInRightTree) = largestNodeInTree`"
   ]
  },
  {
   "cell_type": "code",
   "execution_count": 17,
   "metadata": {},
   "outputs": [
    {
     "name": "stdout",
     "output_type": "stream",
     "text": [
      "10->L:20,R:5\n",
      "20->L:4,R:3\n",
      "4->\n",
      "3->\n",
      "5->\n"
     ]
    }
   ],
   "source": [
    "A = BinaryTreeNode(10)\n",
    "B = BinaryTreeNode(20)\n",
    "C = BinaryTreeNode(5)\n",
    "D = BinaryTreeNode(4)\n",
    "E = BinaryTreeNode(3)\n",
    "\n",
    "A.left = B\n",
    "A.right = C\n",
    "B.left = D\n",
    "B.right = E\n",
    "\n",
    "print_tree_details(A)"
   ]
  },
  {
   "cell_type": "code",
   "execution_count": 18,
   "metadata": {},
   "outputs": [],
   "source": [
    "def findLargestNode(root):\n",
    "\tif root ==None:\n",
    "\t\treturn -1\n",
    "\tlargestNodeInLeftTree = findLargestNode(root.left)\n",
    "\tlargestNodeInRightTree = findLargestNode(root.right)\n",
    "\tlargestNodeInTree = max(root.data, largestNodeInLeftTree, largestNodeInRightTree)\n",
    "\treturn largestNodeInTree\n"
   ]
  },
  {
   "cell_type": "code",
   "execution_count": 19,
   "metadata": {},
   "outputs": [
    {
     "data": {
      "text/plain": [
       "20"
      ]
     },
     "execution_count": 19,
     "metadata": {},
     "output_type": "execute_result"
    }
   ],
   "source": [
    "findLargestNode(A)"
   ]
  },
  {
   "cell_type": "markdown",
   "metadata": {},
   "source": [
    "## Number of Leaf Nodes"
   ]
  },
  {
   "cell_type": "markdown",
   "metadata": {},
   "source": [
    "<div align=\"center\">\n",
    "<img src=\"img/leaf.jpg\" alt=\"leaf.jpg\" width=\"800px\">\n",
    "</div>"
   ]
  },
  {
   "cell_type": "code",
   "execution_count": 14,
   "metadata": {},
   "outputs": [],
   "source": [
    "def numLeafNodes(root):\n",
    "\tif root == None:\n",
    "\t\treturn 0\n",
    "\t# both both left and right are leaf nodes are None - means they are leaf nodes\n",
    "\tif root.left == None and root.right == None:\n",
    "\t\treturn 1\n",
    "\t\n",
    "\ttotalLeafNodesInLeftTree = numLeafNodes(root.left)\n",
    "\ttotalLeafNodesInRightTree = numLeafNodes(root.right)\n",
    "\ttotalLeafNodesInTree = totalLeafNodesInLeftTree + totalLeafNodesInRightTree\n",
    "\treturn totalLeafNodesInTree\n",
    "\t"
   ]
  },
  {
   "cell_type": "code",
   "execution_count": 13,
   "metadata": {},
   "outputs": [
    {
     "data": {
      "text/plain": [
       "3"
      ]
     },
     "execution_count": 13,
     "metadata": {},
     "output_type": "execute_result"
    }
   ],
   "source": [
    "numLeafNodes(A)"
   ]
  }
 ],
 "metadata": {
  "kernelspec": {
   "display_name": "Python 3.9.7 ('base')",
   "language": "python",
   "name": "python3"
  },
  "language_info": {
   "codemirror_mode": {
    "name": "ipython",
    "version": 3
   },
   "file_extension": ".py",
   "mimetype": "text/x-python",
   "name": "python",
   "nbconvert_exporter": "python",
   "pygments_lexer": "ipython3",
   "version": "3.9.7"
  },
  "orig_nbformat": 2,
  "vscode": {
   "interpreter": {
    "hash": "13a64c48d63ab7fa89dd239a6172cf842d756bd82fcb4ba948a9115b41dc50a1"
   }
  }
 },
 "nbformat": 4,
 "nbformat_minor": 2
}
