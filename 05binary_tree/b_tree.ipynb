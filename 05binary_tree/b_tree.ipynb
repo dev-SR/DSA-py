{
 "cells": [
  {
   "cell_type": "markdown",
   "metadata": {},
   "source": [
    "# Binary Tree"
   ]
  },
  {
   "cell_type": "code",
   "execution_count": null,
   "metadata": {},
   "outputs": [],
   "source": [
    "\"\"\"\n",
    "jupyter nbconvert --to markdown b_tree.ipynb --output README.md\n",
    "\"\"\"\n"
   ]
  },
  {
   "cell_type": "markdown",
   "metadata": {},
   "source": [
    "## Introduction\n"
   ]
  },
  {
   "cell_type": "markdown",
   "metadata": {},
   "source": [
    "A binary tree is a tree data structure in which each parent node can have `0`,`1` or at most `2` children. Each node of a binary tree consists of three items:\n",
    "\n",
    "- data item\n",
    "- address of left child\n",
    "- address of right child\n",
    "\n",
    "<div align=\"center\">\n",
    "<img src=\"img/tree_intro.jpg\" alt=\"rec\" width=\"500px\">\n",
    "</div> "
   ]
  },
  {
   "cell_type": "markdown",
   "metadata": {},
   "source": [
    "## Creating Binary Tree"
   ]
  },
  {
   "cell_type": "code",
   "execution_count": 8,
   "metadata": {},
   "outputs": [],
   "source": [
    "class BinaryTreeNode:\n",
    "\tdef __init__(self, data):\n",
    "\t\tself.data = data\n",
    "\t\tself.left = None\n",
    "\t\tself.right = None\n",
    "\n",
    "\tdef __str__(self):\n",
    "\t\treturn str(self.data)"
   ]
  },
  {
   "cell_type": "code",
   "execution_count": 9,
   "metadata": {},
   "outputs": [],
   "source": [
    "btn1 = BinaryTreeNode(1)\n",
    "btn2 = BinaryTreeNode(2)\n",
    "btn3 = BinaryTreeNode(3)"
   ]
  },
  {
   "cell_type": "code",
   "execution_count": 10,
   "metadata": {},
   "outputs": [],
   "source": [
    "btn1.left = btn2\n",
    "btn1.right = btn3"
   ]
  },
  {
   "cell_type": "markdown",
   "metadata": {},
   "source": [
    "## Printing Binary Tree"
   ]
  },
  {
   "cell_type": "markdown",
   "metadata": {},
   "source": [
    "### Print Nodes"
   ]
  },
  {
   "cell_type": "markdown",
   "metadata": {},
   "source": [
    "- `base case`: Check if the given node is `null`. If `null`, then `return` from the function.\n",
    "- `Inductive step`: Print the data/root of the given node.\n",
    "- `Hypothesis`: recursive function will print\n",
    "  - left subtree\n",
    "  - then, right subtree"
   ]
  },
  {
   "cell_type": "code",
   "execution_count": 11,
   "metadata": {},
   "outputs": [
    {
     "name": "stdout",
     "output_type": "stream",
     "text": [
      "1\n",
      "2\n",
      "3\n"
     ]
    }
   ],
   "source": [
    "def print_tree(root):\n",
    "\tif root is None:\n",
    "\t\treturn\n",
    "\tprint(root.data)\n",
    "\tprint_tree(root.left)\n",
    "\tprint_tree(root.right)\n",
    "\n",
    "print_tree(btn1)"
   ]
  },
  {
   "cell_type": "code",
   "execution_count": 12,
   "metadata": {},
   "outputs": [],
   "source": [
    "btn = BinaryTreeNode(\"A\")\n",
    "btn1 = BinaryTreeNode(\"B\")\n",
    "btn2 = BinaryTreeNode(\"C\")\n",
    "btn.left = btn1\n",
    "btn.right = btn2\n",
    "btn3 = BinaryTreeNode(\"D\")\n",
    "btn1.left = btn3\n",
    "btn4 = BinaryTreeNode(\"E\")\n",
    "btn5 = BinaryTreeNode(\"F\")\n",
    "btn2.left = btn4\n",
    "btn2.right = btn5"
   ]
  },
  {
   "cell_type": "markdown",
   "metadata": {},
   "source": [
    "#### Print Node with  Left Child and Right Child"
   ]
  },
  {
   "cell_type": "code",
   "execution_count": 13,
   "metadata": {},
   "outputs": [
    {
     "name": "stdout",
     "output_type": "stream",
     "text": [
      "A:L-> B,R-> C\n",
      "B:L-> D,\n",
      "D:\n",
      "C:L-> E,R-> F\n",
      "E:\n",
      "F:\n"
     ]
    }
   ],
   "source": [
    "def print_tree_details(root):\n",
    "\t# print(l)\n",
    "\tif root is None:\n",
    "\t\treturn\n",
    "\t# printing root node\n",
    "\tprint(root.data,end=\":\")\n",
    "\t# printing left node\n",
    "\tif root.left != None:\n",
    "\t\tprint(\"L->\",root.left.data,end=\",\")\n",
    "\n",
    "\t# printing right node\n",
    "\tif root.right != None:\n",
    "\t\tprint(\"R->\",root.right.data,end=\"\")\n",
    "\tprint()\n",
    "\tprint_tree_details(root.left)\n",
    "\tprint_tree_details(root.right)\n",
    "\n",
    "print_tree_details(btn)"
   ]
  },
  {
   "cell_type": "markdown",
   "metadata": {},
   "source": [
    "Here is a simple simulation of printing a binary tree."
   ]
  },
  {
   "cell_type": "markdown",
   "metadata": {},
   "source": [
    "<div align=\"center\">\n",
    "<img src=\"img/print_tree_left.jpg\" alt=\"print_tree_left.jpg\" width=\"1000px\">\n",
    "</div>"
   ]
  },
  {
   "cell_type": "markdown",
   "metadata": {},
   "source": [
    "Left subtree is printed first, then the right subtree will be printed in the same manner."
   ]
  }
 ],
 "metadata": {
  "interpreter": {
   "hash": "8cdb09b0bc1c395d296938b19fe7764d972a7ceeffba4d3ad7ff6a3771581719"
  },
  "kernelspec": {
   "display_name": "Python 3.8.8 64-bit ('ProgramData': virtualenv)",
   "language": "python",
   "name": "python3"
  },
  "language_info": {
   "codemirror_mode": {
    "name": "ipython",
    "version": 3
   },
   "file_extension": ".py",
   "mimetype": "text/x-python",
   "name": "python",
   "nbconvert_exporter": "python",
   "pygments_lexer": "ipython3",
   "version": "3.8.8"
  },
  "orig_nbformat": 2
 },
 "nbformat": 4,
 "nbformat_minor": 2
}
