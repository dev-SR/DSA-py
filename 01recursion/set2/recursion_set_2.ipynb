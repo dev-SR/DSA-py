{
 "cells": [
  {
   "cell_type": "markdown",
   "metadata": {},
   "source": [
    "# Problem Set 2\n",
    "\n",
    "## Recursion With Strings - replacing character\n",
    "\n",
    "- `base` : len 0 -> do nothing\n",
    "- `Induction Hypothesis` : our function will do the same for `l-1` sized string `x|......l-1|`\n",
    "- `Induction Hypothesis` :\n",
    "  -  `if s[0] == a`, then `return b+smallerOutput`\n",
    "  - else `s[0] + smallerOutput`\n"
   ]
  },
  {
   "cell_type": "code",
   "execution_count": 8,
   "metadata": {},
   "outputs": [
    {
     "name": "stdout",
     "output_type": "stream",
     "text": [
      "bbcd\n",
      "aacd\n"
     ]
    }
   ],
   "source": [
    "def replaceChar(s,a,b):\n",
    "\tif len(s) == 0:\n",
    "\t\treturn s\n",
    "\t\n",
    "\tsmallerOutput = replaceChar(s[1:],a,b)\n",
    "\tif s[0] == a:\n",
    "\t\treturn b + smallerOutput\n",
    "\telse:\n",
    "\t\treturn s[0] + smallerOutput\t\n",
    "\n",
    "print(replaceChar(\"abcd\",'a','b'))\n",
    "print(replaceChar(\"abcd\",'b','a'))"
   ]
  },
  {
   "cell_type": "markdown",
   "metadata": {},
   "source": [
    "### Remove X"
   ]
  },
  {
   "cell_type": "code",
   "execution_count": 17,
   "metadata": {},
   "outputs": [
    {
     "name": "stdout",
     "output_type": "stream",
     "text": [
      "abcd\n"
     ]
    }
   ],
   "source": [
    "def removeX(s):\n",
    "\tif len(s) ==0:\n",
    "\t\treturn s\n",
    "\t\n",
    "\tsmallerOutput = removeX(s[1:])\n",
    "\tif s[0] == 'x':\n",
    "\t\treturn smallerOutput\n",
    "\telse:\n",
    "\t\treturn s[0] + smallerOutput\n",
    "\n",
    "print(removeX(\"xabcdx\"))"
   ]
  },
  {
   "cell_type": "markdown",
   "metadata": {},
   "source": [
    "## Replace - Pi Multiple Character"
   ]
  },
  {
   "cell_type": "code",
   "execution_count": 19,
   "metadata": {},
   "outputs": [
    {
     "name": "stdout",
     "output_type": "stream",
     "text": [
      "Pi:3.14-p:3.14\n"
     ]
    }
   ],
   "source": [
    "def replacePi(s):\n",
    "\tif len(s) == 0 or len(s) == 1:\n",
    "\t\treturn s\n",
    "\t\n",
    "\tif s[0] == 'p' and s[1] == 'i':\n",
    "\t\tsmallerOutput = replacePi(s[2:]) \n",
    "\t\treturn '3.14' + smallerOutput\n",
    "\telse:\n",
    "\t\tsmallerOutput = replacePi(s[1:])\n",
    "\t\treturn s[0] + smallerOutput\n",
    "\n",
    "\n",
    "print(replacePi(\"Pi:pi-p:pi\"))\n"
   ]
  },
  {
   "cell_type": "markdown",
   "metadata": {},
   "source": [
    "### Remove Duplicates "
   ]
  },
  {
   "cell_type": "code",
   "execution_count": 21,
   "metadata": {},
   "outputs": [
    {
     "name": "stdout",
     "output_type": "stream",
     "text": [
      "bba\n"
     ]
    }
   ],
   "source": [
    "def removeDuplicate(s):\n",
    "\tif len(s) == 0 or len(s) == 1:\n",
    "\t\treturn s\n",
    "\t\n",
    "\tif s[0] == s[1]:\n",
    "\t\tsmallerOutput = removeDuplicate(s[2:])\n",
    "\t\treturn smallerOutput\n",
    "\telse:\n",
    "\t\tsmallerOutput = removeDuplicate(s[1:])\n",
    "\t\treturn s[0] + smallerOutput\n",
    "\n",
    "\n",
    "print(removeDuplicate(\"aabccba\"))\n"
   ]
  },
  {
   "cell_type": "markdown",
   "metadata": {},
   "source": [
    "## Binary Search"
   ]
  },
  {
   "cell_type": "code",
   "execution_count": 22,
   "metadata": {},
   "outputs": [
    {
     "name": "stdout",
     "output_type": "stream",
     "text": [
      "4\n"
     ]
    }
   ],
   "source": [
    "def binarySearch(a,x,si,ei):\n",
    "\tif si > ei:\n",
    "\t\treturn -1\n",
    "\t# calling phase\n",
    "\tmid = (si + ei)//2\n",
    "\tif a[mid] == x:\n",
    "\t\treturn mid\n",
    "\t\n",
    "\t# recursive call\n",
    "\telif a[mid] > x:\n",
    "\t\treturn binarySearch(a,x,si,mid-1)\n",
    "\telse:\n",
    "\t\treturn binarySearch(a,x,mid+1,ei)\n",
    "\n",
    "print(binarySearch([1,2,3,4,5,6,7,8,9,10],5,0,9))"
   ]
  },
  {
   "cell_type": "markdown",
   "metadata": {},
   "source": [
    "## Merge Sort\n",
    "\n",
    "<div align=\"center\">\n",
    "<img src=\"../img/merge.jpg\" alt=\"rec\" width=\"600px\">\n",
    "</div>\n",
    "\n",
    "### The merge Step of Merge Sort\n",
    "\n",
    "```python\n",
    "# Have we reached the end of any of the arrays?\n",
    "#    No:\n",
    "#         Compare current elements of both arrays\n",
    "#         Copy smaller element into sorted array\n",
    "#         Move pointer of element containing smaller element\n",
    "#     Yes:\n",
    "#         Copy all remaining elements of non-empty array\n",
    "```\n",
    "<div align=\"center\">\n",
    "<img src=\"../img/merge_1.jpg\" alt=\"rec\" width=\"600px\">\n",
    "</div>"
   ]
  },
  {
   "cell_type": "code",
   "execution_count": 2,
   "metadata": {},
   "outputs": [],
   "source": [
    "def merge(a1,a2,a):\n",
    "\ti=0\n",
    "\tj=0\n",
    "\tk=0\n",
    "# \t i\t   j\n",
    "# a1[7]\ta2[3,4]\n",
    "#      ⬇️\n",
    "# a[3,7]\n",
    "\n",
    "# Until we reach either end of either `a1`  or `a2`, pick smaller among\n",
    "# elements `a1` and `a2` and place them in the correct position at `a`\n",
    "\twhile i < len(a1) and j < len(a2):\n",
    "\t\tif (a1[i]<a2[j]):\n",
    "\t\t\ta[k]=a1[i]\n",
    "\t\t\tk=k+1\n",
    "\t\t\ti=i+1\n",
    "\t\telse:\n",
    "\t\t\ta[k]=a2[j]\n",
    "\t\t\tk=k+1\n",
    "\t\t\tj=j+1\n",
    "# merging left over elements\n",
    "\twhile i < len(a1):\n",
    "\t\ta[k]=a1[i]\n",
    "\t\tk=k+1\n",
    "\t\ti=i+1\n",
    "# \t i\t   \t\tj\n",
    "# a1[__]\ta2[__,4]\n",
    "#      ⬇️\n",
    "# a[3,7,4]\t\n",
    "\twhile j < len(a2):\n",
    "\t\ta[k]=a2[j]\n",
    "\t\tk=k+1\n",
    "\t\tj=j+1"
   ]
  },
  {
   "cell_type": "code",
   "execution_count": 3,
   "metadata": {},
   "outputs": [],
   "source": [
    "def merge_sort(a):\n",
    "\tif len(a) == 0 or len(a) ==1:\n",
    "\t\treturn\n",
    "\t# calling phase\n",
    "\tmid = len(a)//2\n",
    "\ta1=a[0:mid]\n",
    "\ta2=a[mid:]\n",
    "\tmerge_sort(a1)\n",
    "\tmerge_sort(a2)\n",
    "\t# returning phase\n",
    "\tmerge(a1,a2,a)"
   ]
  },
  {
   "cell_type": "code",
   "execution_count": 5,
   "metadata": {},
   "outputs": [
    {
     "name": "stdout",
     "output_type": "stream",
     "text": [
      "[1, 2, 3, 4, 5, 6, 7, 8, 9, 10]\n"
     ]
    }
   ],
   "source": [
    "a= [10,5,3,1,7,9,4,6,8,2]\n",
    "merge_sort(a)\n",
    "print(a)"
   ]
  },
  {
   "cell_type": "markdown",
   "metadata": {},
   "source": [
    "## Quick Sort - place element in it's right position\n",
    "\n",
    "<div align=\"center\">\n",
    "<img src=\"../img/quick.jpg\" alt=\"rec\" width=\"600px\">\n",
    "</div>\n",
    "\n",
    "- Pick the Pivot in array.\n",
    "- place pivot such that, \n",
    "\t- all elements in its left are smaller &\n",
    "\t- all elements in its right are larger.\n",
    "- After placing pivot, left & right partitions are formed.\n",
    "\n",
    "Again pick the pivot, recursively we divide the partitions further into  left & right partitions  until array is completely sorted.\n",
    "\n",
    "<div align=\"center\">\n",
    "<img src=\"../img/quick_1.png\" alt=\"rec\" width=\"600px\">\n",
    "</div>\n",
    "\n",
    "\n",
    "[https://www.enjoyalgorithms.com/blog/quick-sort-algorithm](https://www.enjoyalgorithms.com/blog/quick-sort-algorithm)"
   ]
  },
  {
   "cell_type": "code",
   "execution_count": 1,
   "metadata": {},
   "outputs": [],
   "source": [
    "def partition(a,si,ei):\n",
    "\tpivot = a[si]\t\n",
    "# place pivot at the right place\n",
    "\t# find number of elements less than pivot\n",
    "\tc=0\n",
    "\tfor i in range(si,ei+1):\n",
    "\t\tif a[i] < pivot:\n",
    "\t\t\tc=c+1\n",
    "\t# swap pivot with the last element less than pivot\n",
    "\ta[si+c],a[si] = a[si],a[si+c]\n",
    "\tpivot_index = si+c\n",
    "# place pivot at the right place - end\n",
    "\n",
    "# swap elements less than pivot to the left\n",
    "# and elements greater than pivot to the right\n",
    "\ti=si\n",
    "\tj=ei\n",
    "\n",
    "\twhile i<j:\n",
    "\t\tif a[i] < pivot:\n",
    "\t\t\ti=i+1\n",
    "\t\telif a[j] >= pivot:\n",
    "\t\t\tj=j-1\n",
    "\t\telse:\n",
    "\t\t\ta[i],a[j]=a[j],a[i]\n",
    "\t\t\ti=i+1\n",
    "\t\t\tj=j-1\n",
    "\treturn pivot_index "
   ]
  },
  {
   "cell_type": "code",
   "execution_count": 3,
   "metadata": {},
   "outputs": [
    {
     "name": "stdout",
     "output_type": "stream",
     "text": [
      "[1, 2, 3, 4, 5, 6, 7, 8, 9, 10]\n"
     ]
    }
   ],
   "source": [
    "def quick_sort(a,si,ei):\n",
    "\tif si >= ei:\n",
    "\t\treturn\n",
    "\t# calling phase\n",
    "\tpivot_index = partition(a,si,ei)\n",
    "\tquick_sort(a,si,pivot_index-1)\n",
    "\tquick_sort(a,pivot_index+1,ei)\n",
    "\n",
    "# test\n",
    "a=[10,5,3,1,7,9,4,6,8,2]\n",
    "quick_sort(a,0,len(a)-1)\n",
    "print(a)"
   ]
  },
  {
   "cell_type": "markdown",
   "metadata": {},
   "source": [
    "## Towers Of Hanoi\n",
    "\n",
    "The Tower of Hanoi is a mathematical game or puzzle. It consists of three rods, and a number of disks of different sizes which can slide onto any rod.\n",
    "\n",
    "The objective of the puzzle is to move the entire stack to another rod, obeying the following simple rules:\n",
    "\n",
    "1. Only one disk is allowed to move at a time..\n",
    "2. Bigger disk cannot be placed on the top of smaller disk.\n",
    "\n",
    "\n",
    "Approach:\n",
    "\n",
    "- Recursively Move `N-1` disk from source to Auxiliary peg.\n",
    "- Move the `last` disk from source to destination.\n",
    "- Recursively Move `N-1` disk from Auxiliary to destination peg.\n",
    "\n",
    "<div align=\"center\">\n",
    "<img src=\"../img/Tower.png\" alt=\"rec\" width=\"600px\">\n",
    "</div>"
   ]
  },
  {
   "cell_type": "code",
   "execution_count": 8,
   "metadata": {},
   "outputs": [],
   "source": [
    "def tower_of_hanoi(n,a,b,c):\n",
    "\tif n == 1:\n",
    "\t\tprint(\"Move disk\",n,\" from \",a,'-->',c)\n",
    "\t\treturn\n",
    "\ttower_of_hanoi(n-1,a,c,b) # move n-1 disks from a to b\n",
    "\tprint(\"Move disk\", n, \" from \", a, '-->', c) # move nth disk from a to c\n",
    "\ttower_of_hanoi(n-1, b, a, c)  # move n-1 disks again from b to c"
   ]
  },
  {
   "cell_type": "code",
   "execution_count": 13,
   "metadata": {},
   "outputs": [
    {
     "name": "stdout",
     "output_type": "stream",
     "text": [
      "Move disk 1  from  src --> aux\n",
      "Move disk 2  from  src --> dest\n",
      "Move disk 1  from  aux --> dest\n",
      "Move disk 3  from  src --> aux\n",
      "Move disk 1  from  dest --> src\n",
      "Move disk 2  from  dest --> aux\n",
      "Move disk 1  from  src --> aux\n",
      "Move disk 4  from  src --> dest\n",
      "Move disk 1  from  aux --> dest\n",
      "Move disk 2  from  aux --> src\n",
      "Move disk 1  from  dest --> src\n",
      "Move disk 3  from  aux --> dest\n",
      "Move disk 1  from  src --> aux\n",
      "Move disk 2  from  src --> dest\n",
      "Move disk 1  from  aux --> dest\n"
     ]
    }
   ],
   "source": [
    "tower_of_hanoi(4,'src','aux','dest')"
   ]
  }
 ],
 "metadata": {
  "interpreter": {
   "hash": "8cdb09b0bc1c395d296938b19fe7764d972a7ceeffba4d3ad7ff6a3771581719"
  },
  "kernelspec": {
   "display_name": "Python 3.8.8 64-bit ('ProgramData': virtualenv)",
   "language": "python",
   "name": "python3"
  },
  "language_info": {
   "codemirror_mode": {
    "name": "ipython",
    "version": 3
   },
   "file_extension": ".py",
   "mimetype": "text/x-python",
   "name": "python",
   "nbconvert_exporter": "python",
   "pygments_lexer": "ipython3",
   "version": "3.8.8"
  },
  "orig_nbformat": 2
 },
 "nbformat": 4,
 "nbformat_minor": 2
}
