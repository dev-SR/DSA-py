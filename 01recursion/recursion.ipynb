{
 "cells": [
  {
   "cell_type": "markdown",
   "metadata": {},
   "source": [
    "# Recursion\n",
    "\n",
    "```sh\n",
    "n! = n * (n - 1) * (n - 2) * ...... * 1\n",
    "n! = n * (n - 1)!\n",
    "\n",
    "fact(n) = n * fact(n - 1)\n",
    "fact(n - 1) = (n - 1) * fact(n - 2)\n",
    "\n",
    "0! = 1\n",
    "```\n",
    "\n",
    "`Recursion` is a problem-solving technique that involves breaking a problem into smaller instances of the same problem (also called `subproblems`) until we get a small enough **subproblem having a trivial solution**. We can say that recursion is “defining a problem in terms of itself” as it involves a function calling itself with a base case to terminate the infinite loop.\n",
    "\n",
    "## Parts Of A Recursive Algorithm:\n",
    "\n",
    "1. `Base Case`:It is that step where we have to stop recursion and whose value we know beforehand.Therefore while writing any recursive algorithm the first step is to figure out its base case.For example:While finding the factorial of a number, the base case is `fact(1)=1` since(`1! = 1`).\n",
    "\n",
    "2. `Recursive Call`:Here we keep on dividing the problems into subproblems until we reach the base case.Once we reach the base case we start combining the solution of all the subproblems to get to the solution of the main problem.For example : while computing the factorial of a number the recursive call is `fact(n)=n*fact(n-1)`\n",
    "\n",
    "## Recursion vs. Iteration\n",
    "\n",
    "Let’s recap what we already know first. What is recursion?\n",
    "\n",
    "> Simply, recursion is a loop.\n",
    "\n",
    "\n",
    "Recursion is almost always compared to iteration, which is also a loop. If recursion and iteration are both loops, how are they different?\n",
    "\n",
    "Let’s look at two of the most prominent differences between recursion and iteration:\n",
    "\n",
    "- `Recursion takes additional stack space` — We know that recursion takes extra memory stack space for each recursive calls, thus potentially having larger space complexity vs. iteration.\n",
    "- `Recursion enables cleaner, more readable code` — Despite requiring more space, using recursion can allow your code to be a lot more readable vs. iteration.\n",
    "\n",
    "\n",
    "## The Two Phases of Recursion\n",
    "\n",
    "Note, that the two phases that we are going to look at is not the two cases of recursion that we are familiar with:\n",
    "\n",
    "- **the base case**\n",
    "- **the recursive case**\n",
    "  \n",
    "Recursion is a function that repeatedly calls itself in smaller forms with the idea that a complex problem can be solved more easily by solving a smaller version of the same problem.\n",
    "\n",
    "**What recursion is doing is repeated calling a smaller and smaller version of itself, until you have the smallest possible case that is so small that you can simply solve it immediately → this smallest case is the base case. Then you use the answer to this base case to answer the next smallest problem, and then the next, and then the next, and so on, until you are back to the original problem that you began with.**\n",
    "\n",
    "Did you notice the two phases of recursion?\n",
    "\n",
    "- We have one phase going toward the base case.\n",
    "- We have another phase coming back from the base case.\n",
    "\n",
    "The first phase of going from the original recursive call toward the base case is called the **calling phase**.\n",
    "The second phase of coming back from the base case to the original recursive call is called the **returning phase**.\n",
    "\n",
    "> This is the main difference between recursion and iteration:\n",
    "\n",
    "**Iteration only has a `calling phase`, while recursion has a `calling phase` and a `returning phase`.**\n",
    "\n",
    "The reason recursion is difficult to fully grasp at first, is that the loop of recursion has two phases, and this makes it difficult to see the full combining effect of each recursive call’s results into the final result.\n",
    "\n",
    "For iteration, this is simple because the loop goes just one way → _you simply do the same thing in every iteration, period_.\n",
    "\n",
    "\n",
    "<div align=\"center\">\n",
    "<img src=\"img/recursion.png\" alt=\"rec\" width=\"700px\">\n",
    "</div>\n",
    "\n",
    "For recursion, I have denoted `“op”` with a question mark. This is because in recursion, we have two phases and _a recursive call’s operation can be performed either in the calling phase_ or in the _returning phase_, depending on how the recursion function is designed.\n",
    "\n",
    "- When operations are performed in the `calling phase`, **they are performed as soon as the recursive call is made**. This is similar to how iteration works. The operation is done first, and then its inner recursive call is made.\n",
    "\n",
    "- When the operation is performed in the `returning phase`, **recursive calls are made first**. When a recursive call is made, it first calls its inner recursive call, which calls its own inner recursive call, and so on until the final recursive call with the base case is made. Then, as the recursion returns back toward the original recursive call, operations for each recursive call that have been waiting for the preceding recursive call operation to terminate, are now performed.\n",
    "\n",
    "Here is the key to fully understanding how the results of each recursive call is combined into the final result: we need to understand WHEN the operations of each recursive call is performed.\n",
    "\n",
    "## Recursion is like Inception\n",
    "\n",
    "If you have watched the movie `Inception`, you will notice a striking similarity between recursion and inception. ***Dream within a dream within a dream vs. recursive call within a recursive call within a recursive call.***\n",
    "\n",
    "***With a specific goal in mind, you devise a dream and go into it.*** Inside that dream, you create another dream and go into that, and then another dream inside that dream, and so on until you go into an innermost dream. This is the **calling phase**, or **going-into-the-dreams phase**. The innermost dream is the base case.\n",
    "\n",
    "***Now, to achieve your goals and live a happy life back in reality, you have to come out of the dreams***. You must first awake from the innermost dream, then the dream above that, and then the one above that, and so on until you are finally back out into reality. This is the **returning phase**, or **coming-back-to-reality** phase.\n",
    "\n",
    "How the final result of the recursion is achieved depends on how the operations of each recursion call are performed.\n",
    "\n",
    "**There can be two ways to achieve your goals through inception:**\n",
    "\n",
    "- ***You can perform the necessary operations for each dream as you go in to the innermost dream***. When you have reached the innermost dream, you have *already done all of the necessary operations for each dream*. All you need to do now is to simply awake from each dream like bam bam bam until you are back out into reality. **Notice the order of goals achieved: the goal for the outermost dream is achieved first and the innermost dream last.**\n",
    "\n",
    "- ***Or, you can first go into the innermost dream by entering through all the dreams, and then perform necessary operations as you awake from the dreams***. After achieving your goal for the innermost dream, you awake from that dream. Inside the next dream, you again perform your necessary operations and achieve your goal for that dream. You will continue these operations for each dream until you are awake from the last dream that you began with, and back out into reality. **Notice the order of goals achieved: the goal for the innermost dream is achieved first and the outermost dream last.**\n",
    "\n",
    "- You can also combine these two ways. You can perform some operations on your way into inner dreams and perform some others as you come out of the dreams. For example, you can set up some bombs in a dream on your way into the innermost dream, and then as you awake from the dreams and reach this dream again on your way out to reality, you can trigger the bomb to explode.\n",
    "\n",
    "What you can notice in this inception analogy is that *how the inception is designed (or how the recursion is designed) affects how your goal is achieved*. To put it another way, your inception or recursion function should be designed in a specific way, including the timing of operations, to achieve your intended goals."
   ]
  },
  {
   "cell_type": "markdown",
   "metadata": {},
   "source": [
    "## Recursion in Code\n",
    "\n",
    "Now, let’s look at how recursion actually works in code.\n",
    "The examples I will be using are in JavaScript, but the language shouldn’t really matter in understanding how recursion works.\n",
    "\n",
    "### Iteration\n",
    "\n",
    "First, let’s consider the following iteration function:\n"
   ]
  },
  {
   "cell_type": "code",
   "execution_count": 5,
   "metadata": {},
   "outputs": [
    {
     "name": "stdout",
     "output_type": "stream",
     "text": [
      "5 4 3 2 1 "
     ]
    }
   ],
   "source": [
    "def itr(n):\n",
    "\twhile n > 0:\n",
    "\t\tprint(n,end=\" \")\n",
    "\t\tn-=1\n",
    "\t\n",
    "itr(5)\t"
   ]
  },
  {
   "cell_type": "markdown",
   "metadata": {},
   "source": [
    "<div align=\"center\">\n",
    "<img src=\"img/recursion_2.png\" alt=\"rec\" width=\"300px\">\n",
    "</div>"
   ]
  },
  {
   "cell_type": "markdown",
   "metadata": {},
   "source": [
    "### Tail Recursion\n",
    "\n",
    "This same result can be implemented using recursion as follows:"
   ]
  },
  {
   "cell_type": "code",
   "execution_count": 8,
   "metadata": {},
   "outputs": [
    {
     "name": "stdout",
     "output_type": "stream",
     "text": [
      "6 5 4 3 2 1 "
     ]
    }
   ],
   "source": [
    "def recursion(n):\n",
    "    if (n > 0):\n",
    "        print(n,end=\" \")\n",
    "        recursion(n - 1)\n",
    "\n",
    "\n",
    "recursion(6)"
   ]
  },
  {
   "cell_type": "markdown",
   "metadata": {},
   "source": [
    "The first recursion call is made with `recursion(6)`. As long as `n > 0`, it will print `n` and then call the next recursive call. `recursion(6)` prints `6` and then calls `recursion(5)`. This call will print `5` and then call `recursion(4)`. This process will continue until `recursion(0)` is called.\n",
    "\n",
    "\n",
    "When `recursion(0)` is called, `n = 0`, so the recursive call terminates without performing anything. Since `recursion(0)` has terminated, we are now back at `recursion(1)` call, which have already performed its operation (printing `1`) before calling `recursion(0)`. Since both operations (`print(1)` & `recursion(0)`) of `recursion(1)` are now finished, `recursion(1)` terminates and we are now back at `recursion(2)` call. This continues until we return back to `recursion(6)`, after which our recursion is done.\n",
    "\n",
    "<div align=\"center\">\n",
    "<img src=\"img/recursion_3.png\" alt=\"rec\" width=\"400px\">\n",
    "</div>\n",
    "\n",
    "Notice how all the necessary operations were already performed when we have reached the base case recursive call of `recursion(0)`. All the operations are performed in the calling phase. As we return back from the base case in the returning phase, nothing else is actually done except simply terminating each recursive call.\n",
    "\n",
    "This is an example of tail recursion. *Tail recursion is a type of recursion in which the recursive call is the LAST operation of the recursive function*, as in the above example. **In tail recursion, all operations are performed in the calling phase and nothing is done in the returning phase except for simply terminating the calls.**\n",
    "\n",
    "> Tail recursion is similar to iteration.\n",
    "\n",
    "- When you have a tail recursion, it is more efficient to write the code as an iteration, since they basically work the same way, but iteration has better space complexity.\n",
    "\n",
    "- Remember all recursive functions can be written in iterative form and vice versa, but in some cases it is more difficult to write a recursive function in iterative form.\n",
    "\n",
    "- Tail recursion is an example of recursion that can be easily written in iterative form, and in such cases, you should definitely write the code in iterative form and save memory space."
   ]
  },
  {
   "cell_type": "markdown",
   "metadata": {},
   "source": [
    "### Head Recursion\n",
    "\n",
    "Now, let’s take the above example and make it a head recursion instead, in which all operations are performed in the returning phase:"
   ]
  },
  {
   "cell_type": "code",
   "execution_count": 9,
   "metadata": {},
   "outputs": [
    {
     "name": "stdout",
     "output_type": "stream",
     "text": [
      "1 2 3 4 5 6 "
     ]
    }
   ],
   "source": [
    "def recursion(n):\n",
    "    if (n > 0):\n",
    "        recursion(n - 1)\n",
    "        print(n,end=\" \")\n",
    "\n",
    "\n",
    "recursion(6)"
   ]
  },
  {
   "cell_type": "markdown",
   "metadata": {},
   "source": [
    "Notice how everything is the same, except for the order of the two recursive case operations (`print(n)` and `recursion(n — 1)`).\n",
    "\n",
    "In this recursion, the first recursion call `recursion(6)` is made. Since `n = 6 > 0`, `recursion(5)` is made. *Notice that `print(5)` can only be performed after the `recursion(5)` call is fully processed.* `recursion(5)` must call `recursion(4)` , which must call `recursion(3)` and so on until `recursion(0)` is called. \n",
    "\n",
    "Since `n` is now equal to `0`, **base case** is reached and `recursion(0)` terminates without doing anything. Now we are back at `recursion(1)` call. Here, notice how we have NOT yet performed the `print(1)` operation, because we needed to first wait for the `recursion(0)` call to terminate. With `recursion(0)` now fully processed, `print(1)` operation is performed, `1` is printed. `recursion(1)` is now terminated and we are back at `recursion(2)` call. Again, we haven’t yet performed `print(2)`, so it is performed now, `2` is printed. `recursion(2)` is now terminated and we are back at `recursion(3)`. This continues until we are back to `recursion(6)`, which prints `6` and the recursion is done.\n",
    "\n",
    "<div align=\"center\">\n",
    "<img src=\"img/recursion_4.png\" alt=\"rec\" width=\"400px\">\n",
    "</div>\n",
    "\n",
    "This is a head recursion. *Head recursion is a type of recursion in which the recursive call is the FIRST operation of the recursive function*. **In a head recursion, all operations are performed in the returning phase.**\n",
    "\n",
    "> Unlike tail recursions, head recursions cannot be easily converted to iteration.\n",
    "\n",
    "If we were to write this head recursion in iterative form, we need to write it in such a way that the result will be 1 2 3 4 5 6.\n",
    "\n",
    "If we write the above head recursion code in exactly the same order in iterative form, we would have the following:"
   ]
  },
  {
   "cell_type": "code",
   "execution_count": 11,
   "metadata": {},
   "outputs": [
    {
     "name": "stdout",
     "output_type": "stream",
     "text": [
      "5 4 3 2 1 0 "
     ]
    }
   ],
   "source": [
    "def iteration(n):\n",
    "  while (n > 0):\n",
    "    n-=1\n",
    "    print(n,end=\" \")\n",
    "  \n",
    "iteration(6);"
   ]
  },
  {
   "cell_type": "markdown",
   "metadata": {},
   "source": [
    "This is not what we were trying to get. To get 1 2 3 4 5 6, we have to find a different way to write the iteration function:"
   ]
  },
  {
   "cell_type": "code",
   "execution_count": 14,
   "metadata": {},
   "outputs": [
    {
     "name": "stdout",
     "output_type": "stream",
     "text": [
      "1 2 3 4 5 6 "
     ]
    }
   ],
   "source": [
    "def iteration(n):\n",
    "\ti=1\t\n",
    "\twhile (i<=n):\n",
    "\t\tprint(i, end=\" \")\n",
    "\t\ti += 1\n",
    "\n",
    "\n",
    "iteration(6)\n"
   ]
  },
  {
   "cell_type": "markdown",
   "metadata": {},
   "source": [
    "But, unlike tail recursion, it is more difficult to write head recursion in an iterative form, although it is possible."
   ]
  },
  {
   "cell_type": "markdown",
   "metadata": {},
   "source": [
    "## A More Complex Recursion Example\n",
    "\n",
    "Now, let’s look at the following recursion function:"
   ]
  },
  {
   "cell_type": "code",
   "execution_count": 21,
   "metadata": {},
   "outputs": [
    {
     "name": "stdout",
     "output_type": "stream",
     "text": [
      "6 5 4 3 2 1 \n",
      "21\n"
     ]
    }
   ],
   "source": [
    "def recursion(n):\n",
    "  if (n > 0):\n",
    "    print(n,end=\" \");\n",
    "    result = recursion(n - 1) + n;\n",
    "    return result;\n",
    "\t\n",
    "  return 0;\n",
    "\n",
    "final = recursion(6);\n",
    "print()\n",
    "print(final)"
   ]
  },
  {
   "cell_type": "markdown",
   "metadata": {},
   "source": [
    "Here, we have a combination of operations performed in the calling phase and in returning phase.\n",
    "This recursion is definitely more complex, but using our understanding of the operations performed in the two phases of recursion, we can make sense of how this recursion would return the final result.\n",
    "\n",
    "> Here is a simple rule for when an operation in a recursive function is performed:\n",
    "1. Anything that comes before the recursive call is performed in the `calling phase`\n",
    "2. Anything that comes after the recursive call is performed in the `returning phase\n",
    "\n",
    "In the above example, `print(n)` is performed in the **calling phase**.`\n",
    "\n",
    "The `+ n` and thus the `result = recursion(n — 1) + n` , and `return result` are all performed in the returning phase.\n",
    "The first part is basically the same as the tail recursion example we have seen before:\n",
    "\n",
    "`print(n)` is performed in the **calling phase**, so when we have reached the **base case** call of `recursion(0)`, our recursion function would have already printed: `6 5 4 3 2 1`.\n",
    "\n",
    "> Now, we have to look at the operations performed in the returning phase:\n",
    "\n",
    "\n",
    "- At `recursion(0)`, since `n = 0`, the base case operation that is outside the recursive block is performed: `return 0`. The return value for `recursion(0)` is `0`.\n",
    "- Now we are back to `recursion(1)`. Since we now have the return value from `recursion(1 — 1) = recursion(0)`, which is 0, we have:  `result = 0 + 1 = 1`. `return result = return 1`. The return value for `recursion(1)` is `1`.\n",
    "- Now we are back to `recursion(2)`. `result = 1 + 2 = 3`. `return result = return 3`. The return value for` recursion(2)` is `3`.\n",
    "- Now we are back to `recursion(3)`. `result = 3 + 3 = 6`. `return result = return 6`. The return value for `recursion(3)` is `6`.\n",
    "- ....\n",
    "- Now we are back to `recursion(6)`. `result = 15 + 6 = 21`. `return result = return 21`. The return value for `recursion(6)` is `21`.\n",
    "\n",
    "The final result of the above recursive function is thus:\n",
    "\n",
    "- **`6 5 4 3 2 1` (performed in the calling phase)**\n",
    "- **`21` (the final result of operations performed in the returning phase)**"
   ]
  }
 ],
 "metadata": {
  "interpreter": {
   "hash": "8cdb09b0bc1c395d296938b19fe7764d972a7ceeffba4d3ad7ff6a3771581719"
  },
  "kernelspec": {
   "display_name": "Python 3.8.8 64-bit ('base': conda)",
   "name": "python3"
  },
  "language_info": {
   "codemirror_mode": {
    "name": "ipython",
    "version": 3
   },
   "file_extension": ".py",
   "mimetype": "text/x-python",
   "name": "python",
   "nbconvert_exporter": "python",
   "pygments_lexer": "ipython3",
   "version": "3.8.8"
  },
  "orig_nbformat": 2
 },
 "nbformat": 4,
 "nbformat_minor": 2
}
