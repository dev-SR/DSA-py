{
 "cells": [
  {
   "cell_type": "markdown",
   "metadata": {},
   "source": [
    "# Recursion"
   ]
  },
  {
   "cell_type": "code",
   "execution_count": null,
   "metadata": {},
   "outputs": [],
   "source": [
    "\"\"\"\n",
    "jupyter nbconvert --to markdown recursion.ipynb --output README.md\n",
    "\"\"\""
   ]
  },
  {
   "cell_type": "markdown",
   "metadata": {},
   "source": [
    "## Intro"
   ]
  },
  {
   "cell_type": "markdown",
   "metadata": {},
   "source": [
    "```sh\n",
    "n! = n * (n - 1) * (n - 2) * ...... * 1\n",
    "n! = n * (n - 1)!\n",
    "\n",
    "fact(n) = n * fact(n - 1)\n",
    "fact(n - 1) = (n - 1) * fact(n - 2)\n",
    "\n",
    "0! = 1\n",
    "```\n",
    "\n",
    "`Recursion` is a problem-solving technique that involves breaking a problem into smaller instances of the same problem (also called `subproblems`) until we get a small enough **subproblem having a trivial solution**. We can say that recursion is “defining a problem in terms of itself” as it involves a function calling itself with a base case to terminate the infinite loop.\n",
    "\n",
    "- [https://medium.com/@shishir09/what-is-recursion-in-programming-239d30d12cfe](https://medium.com/@shishir09/what-is-recursion-in-programming-239d30d12cfe)\n",
    "- [https://medium.com/free-code-camp/how-recursion-works-explained-with-flowcharts-and-a-video-de61f40cb7f9](https://medium.com/free-code-camp/how-recursion-works-explained-with-flowcharts-and-a-video-de61f40cb7f9)\n",
    "- [https://medium.com/analytics-vidhya/understanding-recursion-in-python-f4a8cacce478](https://medium.com/analytics-vidhya/understanding-recursion-in-python-f4a8cacce478)\n",
    "- [https://realpython.com/python-thinking-recursively/](https://realpython.com/python-thinking-recursively/)\n",
    "\n"
   ]
  },
  {
   "cell_type": "markdown",
   "metadata": {},
   "source": [
    "## Parts Of A Recursive Algorithm:\n",
    "\n"
   ]
  },
  {
   "cell_type": "markdown",
   "metadata": {},
   "source": [
    "1. `Base Case`:It is that step where we have to stop recursion and whose value we know beforehand.Therefore while writing any recursive algorithm the first step is to figure out its base case.For example:While finding the factorial of a number, the base case is `fact(1)=1` since(`1! = 1`).\n",
    "\n",
    "2. `Recursive Call`:Here we keep on dividing the problems into subproblems until we reach the base case.Once we reach the base case we start combining the solution of all the subproblems to get to the solution of the main problem.For example : while computing the factorial of a number the recursive call is `fact(n)=n*fact(n-1)`"
   ]
  },
  {
   "cell_type": "markdown",
   "metadata": {},
   "source": [
    "## Recursion vs. Iteration\n",
    "\n"
   ]
  },
  {
   "cell_type": "markdown",
   "metadata": {},
   "source": [
    "Let’s recap what we already know first. What is recursion?\n",
    "\n",
    "> Simply, recursion is a loop.\n",
    "\n",
    "Recursion is almost always compared to iteration, which is also a loop. If recursion and iteration are both loops, how are they different?\n",
    "\n",
    "Let’s look at two of the most prominent differences between recursion and iteration:\n",
    "\n",
    "- `Recursion takes additional stack space` — We know that recursion takes extra memory stack space for each recursive calls, thus potentially having larger space complexity vs. iteration.\n",
    "- `Recursion enables cleaner, more readable code` — Despite requiring more space, using recursion can allow your code to be a lot more readable vs. iteration."
   ]
  },
  {
   "cell_type": "markdown",
   "metadata": {},
   "source": [
    "## The Two Phases of Recursion\n",
    "\n"
   ]
  },
  {
   "cell_type": "markdown",
   "metadata": {},
   "source": [
    "Recursion is a function that repeatedly calls itself in smaller forms with the idea that a complex problem can be solved more easily by solving a smaller version of the same problem.\n",
    "\n",
    "What recursion is doing is repeated calling a smaller and smaller version of itself, until you have the smallest possible case that is so small that you can simply solve it immediately **→ this smallest case is the base case**. Then you use the answer to this base case to answer the next smallest problem, and then the next, and then the next, and so on, until you are back to the original problem that you began with.\n",
    "\n",
    "Did you notice the two phases of recursion?\n",
    "\n",
    "- We have one phase going toward the base case.\n",
    "- We have another phase coming back from the base case.\n",
    "\n",
    "The first phase of going from the original recursive call toward the base case is called the **calling phase**.\n",
    "The second phase of coming back from the base case to the original recursive call is called the **returning phase**.\n",
    "\n",
    "> This is the main difference between recursion and iteration:\n",
    "\n",
    "**Iteration only has a `calling phase`, while recursion has a `calling phase` and a `returning phase`.**\n",
    "\n",
    "The reason recursion is difficult to fully grasp at first, is that the loop of recursion has two phases, and this makes it difficult to see the full combining effect of each recursive call’s results into the final result.\n",
    "\n",
    "For iteration, this is simple because the loop goes just one way → _you simply do the same thing in every iteration, period_.\n",
    "\n",
    "\n",
    "<div align=\"center\">\n",
    "<img src=\"img/recursion.png\" alt=\"rec\" width=\"600px\">\n",
    "</div>\n",
    "\n",
    "For recursion, I have denoted `“op”` with a question mark. This is because in recursion, we have two phases and _a recursive call’s operation can be performed either in the calling phase_ or in the _returning phase_, depending on how the recursion function is designed.\n",
    "\n",
    "- When operations are performed in the `calling phase`, **they are performed as soon as the recursive call is made**. This is similar to how iteration works. The operation is done first, and then its inner recursive call is made.\n",
    "\n",
    "- When the operation is performed in the `returning phase`, **recursive calls are made first**. When a recursive call is made, it first calls its inner recursive call, which calls its own inner recursive call, and so on until the final recursive call with the base case is made. Then, as the recursion returns back toward the original recursive call, operations for each recursive call that have been waiting for the preceding recursive call operation to terminate, are now performed.\n",
    "\n",
    "Here is the key to fully understanding how the results of each recursive call is combined into the final result: we need to understand WHEN the operations of each recursive call is performed."
   ]
  },
  {
   "cell_type": "markdown",
   "metadata": {},
   "source": [
    "## Recursion is like Inception"
   ]
  },
  {
   "cell_type": "markdown",
   "metadata": {},
   "source": [
    "If you have watched the movie `Inception`, you will notice a striking similarity between recursion and inception. ***Dream within a dream within a dream vs. recursive call within a recursive call within a recursive call.***\n",
    "\n",
    "***With a specific goal in mind, you devise a dream and go into it.*** Inside that dream, you create another dream and go into that, and then another dream inside that dream, and so on until you go into an innermost dream. This is the **calling phase**, or **going-into-the-dreams phase**. The innermost dream is the base case.\n",
    "\n",
    "***Now, to achieve your goals and live a happy life back in reality, you have to come out of the dreams***. You must first awake from the innermost dream, then the dream above that, and then the one above that, and so on until you are finally back out into reality. This is the **returning phase**, or **coming-back-to-reality** phase.\n",
    "\n",
    "How the final result of the recursion is achieved depends on how the operations of each recursion call are performed.\n",
    "\n",
    "**There can be two ways to achieve your goals through inception:**\n",
    "\n",
    "- ***You can perform the necessary operations for each dream as you go in to the innermost dream***. When you have reached the innermost dream, you have *already done all of the necessary operations for each dream*. All you need to do now is to simply awake from each dream like bam bam bam until you are back out into reality. **Notice the order of goals achieved: the goal for the outermost dream is achieved first and the innermost dream last.**\n",
    "\n",
    "- ***Or, you can first go into the innermost dream by entering through all the dreams, and then perform necessary operations as you awake from the dreams***. After achieving your goal for the innermost dream, you awake from that dream. Inside the next dream, you again perform your necessary operations and achieve your goal for that dream. You will continue these operations for each dream until you are awake from the last dream that you began with, and back out into reality. **Notice the order of goals achieved: the goal for the innermost dream is achieved first and the outermost dream last.**\n",
    "\n",
    "- You can also combine these two ways. You can perform some operations on your way into inner dreams and perform some others as you come out of the dreams. For example, you can set up some bombs in a dream on your way into the innermost dream, and then as you awake from the dreams and reach this dream again on your way out to reality, you can trigger the bomb to explode.\n",
    "\n",
    "What you can notice in this inception analogy is that *how the inception is designed (or how the recursion is designed) affects how your goal is achieved*. To put it another way, your inception or recursion function should be designed in a specific way, including the timing of operations, to achieve your intended goals."
   ]
  },
  {
   "cell_type": "markdown",
   "metadata": {},
   "source": [
    "## Recursion in Code\n",
    "\n"
   ]
  },
  {
   "cell_type": "markdown",
   "metadata": {},
   "source": [
    "### Iteration\n",
    "\n"
   ]
  },
  {
   "cell_type": "code",
   "execution_count": 17,
   "metadata": {},
   "outputs": [
    {
     "name": "stdout",
     "output_type": "stream",
     "text": [
      "5 4 3 2 1 "
     ]
    }
   ],
   "source": [
    "def itr(n):\n",
    "\twhile n > 0:\n",
    "\t\tprint(n,end=\" \")\n",
    "\t\tn-=1\n",
    "\t\n",
    "itr(5)\t"
   ]
  },
  {
   "cell_type": "markdown",
   "metadata": {},
   "source": [
    "<div align=\"center\">\n",
    "<img src=\"img/recursion_2.png\" alt=\"rec\" width=\"300px\">\n",
    "</div>"
   ]
  },
  {
   "cell_type": "markdown",
   "metadata": {},
   "source": [
    "### Tail Recursion\n",
    "\n",
    "This same result can be implemented using recursion as follows:"
   ]
  },
  {
   "cell_type": "code",
   "execution_count": 18,
   "metadata": {},
   "outputs": [
    {
     "name": "stdout",
     "output_type": "stream",
     "text": [
      "6 5 4 3 2 1 "
     ]
    }
   ],
   "source": [
    "def recursion(n):\n",
    "    if (n > 0):\n",
    "        print(n,end=\" \")\n",
    "        recursion(n - 1)\n",
    "\n",
    "recursion(6)"
   ]
  },
  {
   "cell_type": "markdown",
   "metadata": {},
   "source": [
    "The first recursion call is made with `recursion(6)`. As long as `n > 0`, it will print `n` and then call the next recursive call. `recursion(6)` prints `6` and then calls `recursion(5)`. This call will print `5` and then call `recursion(4)`. This process will continue until `recursion(0)` is called.\n",
    "\n",
    "\n",
    "When `recursion(0)` is called, `n = 0`, so the recursive call terminates without performing anything. Since `recursion(0)` has terminated, we are now back at `recursion(1)` call, which have already performed its operation (printing `1`) before calling `recursion(0)`. Since both operations (`print(1)` & `recursion(0)`) of `recursion(1)` are now finished, `recursion(1)` terminates and we are now back at `recursion(2)` call. This continues until we return back to `recursion(6)`, after which our recursion is done.\n",
    "\n",
    "<div align=\"center\">\n",
    "<img src=\"img/recursion_3.png\" alt=\"rec\" width=\"400px\">\n",
    "</div>\n",
    "\n",
    "Notice how all the necessary operations were already performed when we have reached the base case recursive call of `recursion(0)`. All the operations are performed in the calling phase. As we return back from the base case in the returning phase, nothing else is actually done except simply terminating each recursive call.\n",
    "\n",
    "This is an example of tail recursion. _**Tail recursion** is a type of recursion in which the recursive call is the LAST operation of the recursive function_, as in the above example. **In tail recursion, all operations are performed in the calling phase and nothing is done in the returning phase except for simply terminating the calls.**\n",
    "\n",
    "> Tail recursion is similar to iteration.\n",
    "\n",
    "- When you have a tail recursion, it is more efficient to write the code as an iteration, since they basically work the same way, but iteration has better space complexity.\n",
    "\n",
    "- Remember all recursive functions can be written in iterative form and vice versa, but in some cases it is more difficult to write a recursive function in iterative form.\n",
    "\n",
    "- Tail recursion is an example of recursion that can be easily written in iterative form, and in such cases, you should definitely write the code in iterative form and save memory space."
   ]
  },
  {
   "cell_type": "markdown",
   "metadata": {},
   "source": [
    "### Head Recursion\n",
    "\n",
    "Now, let’s take the above example and make it a head recursion instead, in which all operations are performed in the returning phase:"
   ]
  },
  {
   "cell_type": "code",
   "execution_count": 19,
   "metadata": {},
   "outputs": [
    {
     "name": "stdout",
     "output_type": "stream",
     "text": [
      "1 2 3 4 5 6 "
     ]
    }
   ],
   "source": [
    "def recursion(n):\n",
    "    if (n > 0):\n",
    "        recursion(n - 1)\n",
    "        print(n,end=\" \")\n",
    "\n",
    "\n",
    "recursion(6)"
   ]
  },
  {
   "cell_type": "markdown",
   "metadata": {},
   "source": [
    "Notice how everything is the same, except for the order of the two recursive case operations (`print(n)` and `recursion(n — 1)`).\n",
    "\n",
    "In this recursion, the first recursion call `recursion(6)` is made. Since `n = 6 > 0`, `recursion(5)` is made. *Notice that `print(5)` can only be performed after the `recursion(5)` call is fully processed.* `recursion(5)` must call `recursion(4)` , which must call `recursion(3)` and so on until `recursion(0)` is called. \n",
    "\n",
    "Since `n` is now equal to `0`, **base case** is reached and `recursion(0)` terminates without doing anything. Now we are back at `recursion(1)` call. Here, notice how we have NOT yet performed the `print(1)` operation, because we needed to first wait for the `recursion(0)` call to terminate. With `recursion(0)` now fully processed, `print(1)` operation is performed, `1` is printed. `recursion(1)` is now terminated and we are back at `recursion(2)` call. Again, we haven’t yet performed `print(2)`, so it is performed now, `2` is printed. `recursion(2)` is now terminated and we are back at `recursion(3)`. This continues until we are back to `recursion(6)`, which prints `6` and the recursion is done.\n",
    "\n",
    "<div align=\"center\">\n",
    "<img src=\"img/recursion_4.png\" alt=\"rec\" width=\"400px\">\n",
    "</div>\n",
    "\n",
    "This is a head recursion. *Head recursion is a type of recursion in which the recursive call is the FIRST operation of the recursive function*. **In a head recursion, all operations are performed in the returning phase.**\n",
    "\n",
    "> Unlike tail recursions, head recursions cannot be easily converted to iteration.\n",
    "\n",
    "If we were to write this head recursion in iterative form, we need to write it in such a way that the result will be 1 2 3 4 5 6.\n",
    "\n",
    "If we write the above head recursion code in exactly the same order in iterative form, we would have the following:"
   ]
  },
  {
   "cell_type": "code",
   "execution_count": 20,
   "metadata": {},
   "outputs": [
    {
     "name": "stdout",
     "output_type": "stream",
     "text": [
      "5 4 3 2 1 0 "
     ]
    }
   ],
   "source": [
    "def iteration(n):\n",
    "  while (n > 0):\n",
    "    n-=1\n",
    "    print(n,end=\" \")\n",
    "  \n",
    "iteration(6);"
   ]
  },
  {
   "cell_type": "markdown",
   "metadata": {},
   "source": [
    "This is not what we were trying to get. To get 1 2 3 4 5 6, we have to find a different way to write the iteration function:"
   ]
  },
  {
   "cell_type": "code",
   "execution_count": 21,
   "metadata": {},
   "outputs": [
    {
     "name": "stdout",
     "output_type": "stream",
     "text": [
      "1 2 3 4 5 6 "
     ]
    }
   ],
   "source": [
    "def iteration(n):\n",
    "\ti=1\t\n",
    "\twhile (i<=n):\n",
    "\t\tprint(i, end=\" \")\n",
    "\t\ti += 1\n",
    "\n",
    "\n",
    "iteration(6)\n"
   ]
  },
  {
   "cell_type": "markdown",
   "metadata": {},
   "source": [
    "But, unlike tail recursion, it is more difficult to write head recursion in an iterative form, although it is possible."
   ]
  },
  {
   "cell_type": "markdown",
   "metadata": {},
   "source": [
    "### A More Complex Recursion Example\n",
    "\n",
    "Now, let’s look at the following recursion function:"
   ]
  },
  {
   "cell_type": "code",
   "execution_count": 22,
   "metadata": {},
   "outputs": [
    {
     "name": "stdout",
     "output_type": "stream",
     "text": [
      "6 5 4 3 2 1 \n",
      "21\n"
     ]
    }
   ],
   "source": [
    "def recursion(n):\n",
    "  if (n > 0):\n",
    "    print(n,end=\" \");\n",
    "    result = recursion(n - 1) + n;\n",
    "    return result;\n",
    "\t\n",
    "  return 0;\n",
    "\n",
    "final = recursion(6);\n",
    "print()\n",
    "print(final)"
   ]
  },
  {
   "cell_type": "markdown",
   "metadata": {},
   "source": [
    "Here, we have a combination of operations performed in the calling phase and in returning phase.\n",
    "\n",
    "> Here is a simple rule for when an operation in a recursive function is performed:\n",
    "1. Anything that comes **before** the recursive call is performed in the `calling phase`\n",
    "2. Anything that comes after the recursive call is performed in the `returning phase`\n",
    "\n",
    "In the above example, `print(n)` is performed in the **calling phase**. The first part is basically the same as the tail recursion example we have seen before.\n",
    "\n",
    "The `+ n` and thus the `result = recursion(n — 1) + n` , and `return result` are all performed in the **returning phase**.\n",
    "\n",
    "The final result of the above recursive function is thus:\n",
    "\n",
    "- **`6 5 4 3 2 1` (performed in the calling phase)**\n",
    "- **`21` (the final result of operations performed in the returning phase)**"
   ]
  },
  {
   "cell_type": "markdown",
   "metadata": {},
   "source": [
    "### 🚀🚀🚀 Visualizing CallStack "
   ]
  },
  {
   "cell_type": "markdown",
   "metadata": {},
   "source": [
    "#### Simple Example:"
   ]
  },
  {
   "cell_type": "code",
   "execution_count": 340,
   "metadata": {},
   "outputs": [
    {
     "name": "stdout",
     "output_type": "stream",
     "text": [
      "Calling Phase:\n",
      "['factorial(5)']\n",
      "Calling Phase:\n",
      "['factorial(5)', 'factorial(4)']\n",
      "Calling Phase:\n",
      "['factorial(5)', 'factorial(4)', 'factorial(3)']\n",
      "Calling Phase:\n",
      "['factorial(5)', 'factorial(4)', 'factorial(3)', 'factorial(2)']\n",
      "Calling Phase:\n",
      "['factorial(5)', 'factorial(4)', 'factorial(3)', 'factorial(2)', 'factorial(1)']\n",
      "Returning Phase:\n",
      "['factorial(5)', 'factorial(4)', 'factorial(3)', 'factorial(2)']\n",
      "Returning Phase:\n",
      "['factorial(5)', 'factorial(4)', 'factorial(3)']\n",
      "Returning Phase:\n",
      "['factorial(5)', 'factorial(4)']\n",
      "Returning Phase:\n",
      "['factorial(5)']\n",
      "120\n"
     ]
    }
   ],
   "source": [
    "callstack = []\n",
    "def factorial(n, callstack):\n",
    "  print(\"Calling Phase:\")\n",
    "  callstack.append(f\"factorial({n})\")\n",
    "  print(callstack)\n",
    "  if (n <= 1):\n",
    "    return 1;\n",
    "  else:\n",
    "    returns = factorial(n - 1, callstack)\n",
    "    print(\"Returning Phase:\")\n",
    "    fact = returns * n;\n",
    "    callstack.pop()\n",
    "    print(callstack)\n",
    "    return fact;\n",
    "\n",
    "n=5\n",
    "final= factorial(n, callstack)\n",
    "print(final)\n"
   ]
  },
  {
   "cell_type": "markdown",
   "metadata": {},
   "source": [
    "#### 🌟🌟🌟More Complex Example:"
   ]
  },
  {
   "cell_type": "code",
   "execution_count": 328,
   "metadata": {},
   "outputs": [
    {
     "name": "stdout",
     "output_type": "stream",
     "text": [
      "h̶e̶l̶l̶o̶o̶\n",
      "12\n",
      "6\n"
     ]
    }
   ],
   "source": [
    "def strike(text):\n",
    "    # print('\\u0336' + 'c' + '\\u0336')\n",
    "    result = ''\n",
    "    for c in text:\n",
    "        result = result + c + '\\u0336'\n",
    "    return result\n",
    "\n",
    "\n",
    "print(strike(\"helloo\"))\n",
    "print(len(strike(\"helloo\"))) ## V.V.I.\n",
    "\n",
    "print(len(\"helloo\"))\n"
   ]
  },
  {
   "cell_type": "code",
   "execution_count": 524,
   "metadata": {},
   "outputs": [
    {
     "name": "stdout",
     "output_type": "stream",
     "text": [
      "[{'id': 0, 'function': 'f̶u̶n̶(̶0̶)̶', 'returns': 1, 'isCalling': False, 'isPopped': True, 'value': 'x'}, {'id': 1, 'function': 'fun(1)', 'returns': None, 'isCalling': True, 'isPopped': False, 'value': '1+1+1'}, {'id': 2, 'function': 'fun(2)', 'returns': None, 'isCalling': True, 'isPopped': False, 'value': 'x'}, {'id': 3, 'function': 'fun(3)', 'returns': None, 'isCalling': True, 'isPopped': False, 'value': 'x'}, {'id': 4, 'function': 'fun(4)', 'returns': None, 'isCalling': True, 'isPopped': False, 'value': 'x'}]\n"
     ]
    }
   ],
   "source": [
    "callstack = []\n",
    "\n",
    "def buildFunctionDescription(id,f_name,is_calling=True,returns=None,is_popped=False,value=\"x\"):\n",
    "\titem = {\n",
    "\t\t'id':id,\n",
    "\t\t\"function\": f_name,\n",
    "\t\t\"returns\": returns,\n",
    "\t\t\"isCalling\": is_calling,\n",
    "\t\t\"isPopped\": is_popped,\n",
    "\t\t\"value\": value\n",
    "\t}\n",
    "\treturn item\n",
    "\n",
    "def popFromCallStack(id,callstack):\n",
    "\treturn callstack.filter(lambda i: i['id'] != id)\n",
    "\n",
    "\n",
    "def popFromCallStackStrike(pop_id, callstack, returns, caller_id=None,current_value_of_caller=None):\n",
    "\t# find item to be popped/strikethrough\n",
    "\titem = [el for el in callstack if el['id'] == pop_id][0]\n",
    "\titem['function'] = strike(item['function'])\n",
    "\titem['isPopped'] = True\n",
    "\titem['returns'] = returns\n",
    "\titem['isCalling'] = False\n",
    "\t# replace item in callstack where id == id\n",
    "\tfor i in callstack:\n",
    "\t\tif i['id'] == pop_id:\n",
    "\t\t\ti = item\n",
    "\t# sort by id \n",
    "\tcallstack = sorted(callstack, key=lambda i: i['id'], reverse=False)\n",
    "\t# find item to be calling\n",
    "\t\n",
    "\tif(caller_id):\n",
    "\t\titem = [el for el in callstack if el['id'] == caller_id][0]\n",
    "\t\titem['isCalling'] = True\n",
    "\t\titem['value'] = current_value_of_caller\n",
    "\n",
    "\treturn callstack\n",
    "\n",
    "def buildCallStack(n):\n",
    "\tcallstack = []\n",
    "\tfor i in range(n):\n",
    "\t\titem = buildFunctionDescription(id=i,f_name=f\"fun({i})\")\n",
    "\t\tcallstack.append(item)\n",
    "\treturn callstack\n",
    "\n",
    "\n",
    "def StackFormation(callstack, newItem):\n",
    "\t# make isCalling False for all items\n",
    "\tfor i in callstack:\n",
    "\t\ti['isCalling'] = False\n",
    "\tcallstack.append(newItem)\n",
    "\tcallstack = sorted(callstack, key=lambda i: i['id'], reverse=False)\n",
    "\treturn callstack\n",
    "\t\n",
    "\t\n",
    "\t\n",
    "callstack = buildCallStack(5)\n",
    "callstack = popFromCallStackStrike(\n",
    "\tpop_id=0, callstack=callstack, returns=1, caller_id=1, current_value_of_caller=f\"1+1+1\")\n",
    "\n",
    "print(callstack)"
   ]
  },
  {
   "cell_type": "code",
   "execution_count": 525,
   "metadata": {},
   "outputs": [
    {
     "name": "stdout",
     "output_type": "stream",
     "text": [
      "  │  f̶u̶n̶(̶0̶)̶          │⤸1\n",
      "->│  fun(1) ->1+1+1  │\n",
      "->│  fun(2) ->x      │\n",
      "->│  fun(3) ->x      │\n",
      "->│  fun(4) ->x      │\n",
      "  └──────────────────┘\n"
     ]
    }
   ],
   "source": [
    "def printStack(callstack):\n",
    "\tcallstackSize = len(callstack)\n",
    "\t# for el in callstack:\n",
    "\t# \tfn = el['function']\n",
    "\t# \tfull_fn = f\"{el['function']} ->{el['value']}\"\n",
    "\t# \tprint(full_fn,len(full_fn))\n",
    "\t# \tprint(fn,len(fn))\n",
    "\t\t\n",
    "\tif (callstackSize == 0): return # handle empty stack\n",
    "\telif (callstackSize == 1):\t# handle one item remaining\n",
    "\t\tmaxLengthAmongListItem = max(\n",
    "\t\t\tlen(f\"{el['function']} ->{el['value']}\") for el in callstack)\n",
    "\telse:  # handle more than one item remaining\n",
    "\t\tmaxLengthAmongListItem = max(len(f\"{el['function']} ->{el['value']}\") for el in callstack if el['isPopped'] == False) # only considers max length of non-popped items\n",
    "\n",
    "\tfor el in callstack:\n",
    "\t\tif el['isPopped'] == True:\n",
    "\t\t\tLWS = \" \"*2 # left white space\n",
    "\t\t\ttoPrinted = f\"{el['function']}\"\n",
    "\t\t\trequiredLength = maxLengthAmongListItem - (len(toPrinted)//2) # handle strikethrough text\n",
    "\t\t\tRWS = \" \"*(requiredLength+2) # right white space\n",
    "\t\t\ttoPrinted = f\"{LWS}{el['function']}{RWS}\"\n",
    "\t\telse:\n",
    "\t\t\tLWS = \" \"*2\n",
    "\t\t\ttoPrinted = f\"{el['function']} ->{el['value']}\"\n",
    "\t\t\trequiredLength = maxLengthAmongListItem - len(toPrinted)\n",
    "\t\t\tRWS = \" \"*(requiredLength+2)\n",
    "\t\t\ttoPrinted = f\"{LWS}{el['function']} ->{el['value']}{RWS}\"\n",
    "\n",
    "\t\tprintStack = f\"│{toPrinted}│\"\n",
    "\n",
    "\t\tif (el['isCalling']):\n",
    "\t\t\tprint(\"->\",end=\"\")\n",
    "\t\t\tprint(printStack, end=\"\")\n",
    "\t\t\tprint()\n",
    "\t\telif (el['returns']): \n",
    "\t\t\tprint(\"  \",end=\"\")\n",
    "\t\t\tprint(printStack, end=\"\")\n",
    "\t\t\tprint(\"⤸\",end=\"\")\n",
    "\t\t\tprint(el['returns'],end=\"\")\n",
    "\t\t\tprint()\t\t\t\t\t\t\n",
    "\t\telse:\n",
    "\t\t\tprint(\"  \",end=\"\")\n",
    "\t\t\tprint(printStack)\n",
    "\tprint(\"  \", end=\"\")\n",
    "\tprint(f\"└{'─'*(maxLengthAmongListItem+2+2)}┘\")\n",
    "\n",
    "\t\t\n",
    "printStack(callstack)\n"
   ]
  },
  {
   "cell_type": "code",
   "execution_count": 523,
   "metadata": {},
   "outputs": [
    {
     "name": "stdout",
     "output_type": "stream",
     "text": [
      "Calling Phase:\n",
      "->│  fun(5) ->x  │\n",
      "  └──────────────┘\n",
      "Calling Phase:\n",
      "->│  fun(4) ->x  │\n",
      "  │  fun(5) ->x  │\n",
      "  └──────────────┘\n",
      "Calling Phase:\n",
      "->│  fun(3) ->x  │\n",
      "  │  fun(4) ->x  │\n",
      "  │  fun(5) ->x  │\n",
      "  └──────────────┘\n",
      "Calling Phase:\n",
      "->│  fun(2) ->x  │\n",
      "  │  fun(3) ->x  │\n",
      "  │  fun(4) ->x  │\n",
      "  │  fun(5) ->x  │\n",
      "  └──────────────┘\n",
      "Calling Phase:\n",
      "->│  fun(1) ->x  │\n",
      "  │  fun(2) ->x  │\n",
      "  │  fun(3) ->x  │\n",
      "  │  fun(4) ->x  │\n",
      "  │  fun(5) ->x  │\n",
      "  └──────────────┘\n",
      "Returning Phase:\n",
      "  │  f̶u̶n̶(̶1̶)̶        │⤸1\n",
      "->│  fun(2) ->1*2  │\n",
      "  │  fun(3) ->x    │\n",
      "  │  fun(4) ->x    │\n",
      "  │  fun(5) ->x    │\n",
      "  └────────────────┘\n",
      "Returning Phase:\n",
      "  │  f̶u̶n̶(̶2̶)̶        │⤸2\n",
      "->│  fun(3) ->2*3  │\n",
      "  │  fun(4) ->x    │\n",
      "  │  fun(5) ->x    │\n",
      "  └────────────────┘\n",
      "Returning Phase:\n",
      "  │  f̶u̶n̶(̶3̶)̶        │⤸6\n",
      "->│  fun(4) ->6*4  │\n",
      "  │  fun(5) ->x    │\n",
      "  └────────────────┘\n",
      "Returning Phase:\n",
      "  │  f̶u̶n̶(̶4̶)̶         │⤸24\n",
      "->│  fun(5) ->24*5  │\n",
      "  └─────────────────┘\n",
      "\n",
      "Final Returned:\n",
      "  │  f̶u̶n̶(̶5̶)̶               │⤸120\n",
      "  └───────────────────────┘\n",
      "120\n"
     ]
    }
   ],
   "source": [
    "callstack = []\n",
    "def factorial(n, callstack):\n",
    "  print(\"Calling Phase:\")\n",
    "  fn  = buildFunctionDescription(n,f\"fun({n})\")\n",
    "  callstack = StackFormation(callstack,fn)\n",
    "  printStack(callstack)\n",
    "  # print(callstack)\n",
    "  if (n <= 1):\n",
    "    return 1;\n",
    "  else:\n",
    "    returns = factorial(n - 1, callstack)\n",
    "    print(\"Returning Phase:\")\n",
    "    fact = returns * n;\n",
    "    # print(callstack)\n",
    "    callstack = popFromCallStackStrike(n-1, callstack, returns=returns,caller_id=n,current_value_of_caller=f\"{returns}*{n}\")\n",
    "    printStack(callstack)\n",
    "\n",
    "    return fact;\n",
    "\n",
    "n=5\n",
    "final= factorial(n, callstack)\n",
    "print()\n",
    "print(\"Final Returned:\")\n",
    "callstack = popFromCallStackStrike(n, callstack, returns=final)\n",
    "printStack(callstack)\n",
    "print(final)\n"
   ]
  },
  {
   "cell_type": "markdown",
   "metadata": {},
   "source": [
    "### 🚀🚀🚀Visualizing Recursion Tree"
   ]
  },
  {
   "cell_type": "code",
   "execution_count": 12,
   "metadata": {},
   "outputs": [
    {
     "name": "stdout",
     "output_type": "stream",
     "text": [
      "waysToClimb(10) returned 11\n",
      "│────waysToClimb(8) returned 6\n",
      "│    │────waysToClimb(6) returned 3\n",
      "│    │    │────waysToClimb(4) returned 2\n",
      "│    │    │    │────waysToClimb(2) returned 1\n",
      "│    │    │    │    └────waysToClimb(0) returned 1\n",
      "│    │    │    └────waysToClimb(0) returned 1\n",
      "│    │    │────waysToClimb(2) returned 1\n",
      "│    │    │    └────waysToClimb(0) returned 1\n",
      "│    │    └────waysToClimb(1) returned 0\n",
      "│    │────waysToClimb(4) returned 2\n",
      "│    │    │────waysToClimb(2) returned 1\n",
      "│    │    │    └────waysToClimb(0) returned 1\n",
      "│    │    └────waysToClimb(0) returned 1\n",
      "│    │────waysToClimb(3) returned 0\n",
      "│    │    └────waysToClimb(1) returned 0\n",
      "│    └────waysToClimb(0) returned 1\n",
      "│────waysToClimb(6) returned 3\n",
      "│    │────waysToClimb(4) returned 2\n",
      "│    │    │────waysToClimb(2) returned 1\n",
      "│    │    │    └────waysToClimb(0) returned 1\n",
      "│    │    └────waysToClimb(0) returned 1\n",
      "│    │────waysToClimb(2) returned 1\n",
      "│    │    └────waysToClimb(0) returned 1\n",
      "│    └────waysToClimb(1) returned 0\n",
      "│────waysToClimb(5) returned 1\n",
      "│    │────waysToClimb(3) returned 0\n",
      "│    │    └────waysToClimb(1) returned 0\n",
      "│    │────waysToClimb(1) returned 0\n",
      "│    └────waysToClimb(0) returned 1\n",
      "└────waysToClimb(2) returned 1\n",
      "        └────waysToClimb(0) returned 1\n"
     ]
    }
   ],
   "source": [
    "class Tree:\n",
    "  def __init__(self):\n",
    "    self.call: str = ''\n",
    "    self.returned = None\n",
    "    self.children = []\n",
    "\n",
    "def waysToClimb(n, possibleSteps, tree):\n",
    "  tree.call = f'waysToClimb({n})'\n",
    "  if n == 0:\n",
    "    tree.returned = 1\n",
    "    return 1\n",
    "  else:\n",
    "    nbWays = 0\n",
    "    for steps in possibleSteps:\n",
    "      if (n-steps) >= 0:\n",
    "        child = Tree()\n",
    "        tree.children.append(child)\n",
    "        nbWays += waysToClimb(n-steps, possibleSteps, child)\n",
    "    tree.returned = nbWays\n",
    "    return nbWays\n",
    "\n",
    "\n",
    "def printTree(tree, indent=''):\n",
    "  if tree is None or len(tree.children) == 0:\n",
    "    print(tree.call + ' returned ' + str(tree.returned))\n",
    "  else:\n",
    "    print(tree.call + ' returned ' + str(tree.returned))\n",
    "    for child in tree.children[:-1]:\n",
    "      print(indent + '│' + '─' * 4, end='')\n",
    "      printTree(child, indent + '│' + ' ' * 4)\n",
    "    child = tree.children[-1]\n",
    "    print(indent + '└' + '─' * 4, end='')\n",
    "    printTree(child, indent + '  ' * 4)\n",
    "\n",
    "n = 10 \n",
    "possibleSteps = [2,4,5,8]\n",
    "recursionTree = Tree()\n",
    "waysToClimb(n, possibleSteps, recursionTree)\n",
    "printTree(recursionTree)"
   ]
  },
  {
   "cell_type": "markdown",
   "metadata": {},
   "source": [
    "## Principle of Mathematical Induction (PMI) and Recursion\n"
   ]
  },
  {
   "cell_type": "markdown",
   "metadata": {},
   "source": [
    "\n",
    "Mathematical Induction is a technique to prove mathematical properties or formulations that are held for every natural numbers (0  and positive integer) or every whole number (positive integer)\n",
    "\n",
    "<!-- $\n",
    "\\color{Green} \\Large 0 + 1 + 2 + .... + n =\\sum_{i=0}^{n} = \\frac{n(n+1)}{2}\n",
    "\n",
    "$ -->\n",
    "\n",
    "<div align=\"center\" >\n",
    "<img style=\"transform: translateY(0.1em);\" src=\"..\\svg\\RPiDZ9fei7.svg\">\n",
    "</div>\n",
    "\n",
    "For example, let us prove the equation for adding positive integers from `0 (or 1) to n`:\n",
    "\n",
    "First, prove when `n = 0`:\n",
    "\n",
    "<!-- $\n",
    "\\color{Green} \\Large \\frac{0(0+1)}{2} = 0\n",
    "\n",
    "$ -->\n",
    "\n",
    "<div align=\"center\" >\n",
    "<img align=\"center\" style=\"transform: translateY(0.1em);\" src=\"..\\svg\\igkMzJhgYu.svg\">\n",
    "</div>\n",
    "\n",
    "Second, assume that the equation is true for adding up from `0 to n-1`:\n",
    "\n",
    "<!-- $\n",
    "\\color{Green} \\Large \\color{Green} \\Large 0 + 1 + 2 + .... + n - 1 = \\frac{(n - 1)(n - 1 + 1)}{2}  = \\frac{n(n - 1)}{2}\n",
    "\n",
    "$ --> \n",
    "<div align=\"center\" >\n",
    "<img align=\"center\" style=\"transform: translateY(0.1em);\" src=\"..\\svg\\pbAmZtcpcO.svg\">\n",
    "</div>\n",
    "\n",
    "Third, using the assumption in the previous step, show the equation is true for adding up from `0 to n`:\n",
    "\n",
    "\n",
    "<!-- $\n",
    "\\color{Green} \\Large \\color{Green} \\Large 0 + 1 + 2 + .... + n - 1 + n = \\frac{n (n - 1)}{2} + n = \\frac{n (n - 1) + 2n}{2} = \\frac{n^{2} - n + 2n}{2} = \\frac{n(n+1)}{2}\n",
    "\n",
    "$ --> \n",
    "<div align=\"center\" >\n",
    "<img style=\"transform: translateY(0.1em);\" src=\"..\\svg\\xQ8RrNLlwK.svg\">\n",
    "</div>\n",
    "\n",
    "This proves the equation works for every natural number because:\n",
    "\n",
    "1. It works for the smallest number `0` (or 1 some times);\n",
    "2. if the equation is true for one natural number then it is true for the next consecutive number;\n",
    "3. True for 0 so true for 1, then true for 2, and true for 3 and so on… (this is the point where my mind was blown away!)\n",
    "\n",
    "### Steps for solving using PMI:\n",
    "\n",
    "1. Task 1: `f(0)`, `f(1)` is true\n",
    "2. Task 2: Assume `f(k)` is True.\n",
    "3. Task 3: Prove `f(k+1)` is True.\n",
    "\n",
    "\n",
    "**- Prove that Prove the sum of first n integers is `n(n+1)/2`.**\n",
    "\n",
    "<!-- $\n",
    "\\Large \\color{Green} \\sum_{}^{}n = \\frac{n(n+1)}{2}\n",
    "\n",
    "$ -->\n",
    "i.e. \n",
    "\n",
    "<div align=\"center\" >\n",
    "<img style=\"transform: translateY(0.1em);\" src=\"..\\svg\\RJJ9bi0X3k.svg\">\n",
    "</div>\n",
    "\n",
    "- Solution: \n",
    "\n",
    "1. Task 1: `f(0)`, `f(1)` is true\n",
    "\n",
    "<!-- $\n",
    "\\Large \\color{Green} \\sum_{}^{}1 = \\frac{1(1+1)}{2} = 2/2 = 1\n",
    "$ --> \n",
    "<div align=\"center\" >\n",
    "<img style=\"transform: translateY(0.1em);\" src=\"..\\svg\\Tpv7jP790Y.svg\">\n",
    "</div>\n",
    "\n",
    "<!-- $\n",
    "\\Large \\color{Green} \\sum_{}^{}k = \\frac{k(k+1)}{2}\n",
    "$ --> \n",
    "\n",
    "  2. Task 2: Assume `f(k)` is True.\n",
    "\n",
    "\n",
    "<div align=\"center\" >\n",
    "<img style=\"\" src=\"..\\svg\\zRIEchlWSz.svg\">\n",
    "</div>\n",
    "\n",
    "  3. Task 3: Prove `f(k+1)` is True.\n",
    "\n",
    "\n",
    "<!-- $\n",
    "\\Large \\color{Green} \\sum_{}^{}k +1  = \\frac{(k+1)(k+1+1)}{2} = \\frac{(k+1)(k+2)}{2}\n",
    "\n",
    "$ --> \n",
    "\n",
    "\n",
    "<div align=\"center\" >\n",
    "<img style=\"transform: translateY(0.1em); \" src=\"..\\svg\\I7Nixbka61.svg\">\n",
    "</div>\n",
    "\n",
    "<!-- $\n",
    "\\Large \\color{Green} \\sum_{}^{}k+1\n",
    "  = \\sum_{}^{}k+ (k+1)\n",
    "  = \\frac{k(k+1)}{2} + \\frac{2(k+1)}{2} \n",
    "  = (\\frac{k+1}{2}) * (k+2)\n",
    "  \n",
    "$ --> \n",
    "\n",
    "so, \n",
    "\n",
    "<div align=\"center\" >\n",
    "<img style=\"transform: translateY(0.1em);\" src=\"..\\svg\\dJyycnIF1V.svg\">\n",
    "</div>\n",
    "\n",
    "I found mathematical induction and a recursive algorithm very similar in three points:\n",
    "1. The basic case should be established; in the first example, n=0 case and in the second example, m = 0\n",
    "2. Substitutions are used to go through the cases; in the first example, the last number in the series being used in the equation and in the second example, m and n being updated until m becomes 0 or less than 0\n",
    "3. There is no set end: mathematical induction is used for infinitely many numbers of sequences and a recursive algorithm is used for an iteration without a set range of indices.\n",
    "   \n",
    "When I realized these similarities, it seems easier to know when to use a recursion algorithm and how to build it. Using these three things, a recursion algorithm is broken down into two parts that are also indicators when to use the algorithm:\n",
    "\n",
    "1. Find a parameter value that represents a basic case and see it can end the loop that you are about to build\n",
    "2. Find a pattern that is repeated and see if it can be expressed simply by updating values for variables"
   ]
  },
  {
   "cell_type": "markdown",
   "metadata": {},
   "source": [
    "## Changing Python Recursion Limit\n",
    "\n",
    "```python\n",
    "import sys\n",
    "sys.setrecursionlimit(100000)\n",
    "```"
   ]
  }
 ],
 "metadata": {
  "interpreter": {
   "hash": "8cdb09b0bc1c395d296938b19fe7764d972a7ceeffba4d3ad7ff6a3771581719"
  },
  "kernelspec": {
   "display_name": "Python 3.8.8 64-bit ('base': conda)",
   "name": "python3"
  },
  "language_info": {
   "codemirror_mode": {
    "name": "ipython",
    "version": 3
   },
   "file_extension": ".py",
   "mimetype": "text/x-python",
   "name": "python",
   "nbconvert_exporter": "python",
   "pygments_lexer": "ipython3",
   "version": "3.8.8"
  },
  "orig_nbformat": 2
 },
 "nbformat": 4,
 "nbformat_minor": 2
}
