{
 "cells": [
  {
   "cell_type": "markdown",
   "metadata": {},
   "source": [
    "# Problem Set 1"
   ]
  },
  {
   "cell_type": "markdown",
   "metadata": {},
   "source": [
    "## Factorial\n",
    "\n",
    "Using Mathematical Induction:\n",
    "\n",
    "-  Base Case `f(0) = 1` is true.\n",
    "-  Assuming `f(n-1)` will give me proper ans\n",
    "-  Then, `n * f(n - 1)` will also be True."
   ]
  },
  {
   "cell_type": "code",
   "execution_count": 2,
   "metadata": {},
   "outputs": [
    {
     "data": {
      "text/plain": [
       "120"
      ]
     },
     "execution_count": 2,
     "metadata": {},
     "output_type": "execute_result"
    }
   ],
   "source": [
    "def fact(n):\n",
    "\tif n == 0:\n",
    "\t\treturn 1\n",
    "\tsmallOutput = fact(n-1) # calling phase\n",
    "\treturn n * smallOutput # op in returning phase\n",
    "\n",
    "fact(5)"
   ]
  },
  {
   "cell_type": "markdown",
   "metadata": {},
   "source": [
    "## Sum of first n Integer\n",
    "\n",
    "Using Mathematical Induction:\n",
    "\n",
    "-  Base Case `f(0) = 1` is true.\n",
    "-  Assuming `f(n-1)` will give me proper ans\n",
    "-  Then, `n * f(n - 1)` will also be True."
   ]
  },
  {
   "cell_type": "code",
   "execution_count": 6,
   "metadata": {},
   "outputs": [
    {
     "name": "stdout",
     "output_type": "stream",
     "text": [
      "15\n"
     ]
    }
   ],
   "source": [
    "def sum_n(n):\n",
    "\tif n == 0:\n",
    "\t\treturn 0\n",
    "\tsmallOutput = sum_n(n-1) # calling phase\n",
    "\toutput = smallOutput + n   # op in returning phase\n",
    "\treturn output  # op in returning phase\n",
    "\n",
    "print(sum_n(5))\n"
   ]
  },
  {
   "cell_type": "markdown",
   "metadata": {},
   "source": [
    "## Print of first n Integer\n",
    "\n",
    "Using Mathematical Induction:\n",
    "\n",
    "-  Base Case `f(0)` is true.\n",
    "-  Assuming `f(n-1)` will print up to `1......n-1`\n",
    "-  If `f(n-1)` prints upto `n-1` ,then We just need to print `n`"
   ]
  },
  {
   "cell_type": "code",
   "execution_count": 4,
   "metadata": {},
   "outputs": [
    {
     "name": "stdout",
     "output_type": "stream",
     "text": [
      "1\n",
      "2\n",
      "3\n",
      "4\n",
      "5\n"
     ]
    }
   ],
   "source": [
    "def print_1_to_n(n):\n",
    "\tif n == 0:\n",
    "\t\treturn\n",
    "\tprint_1_to_n(n-1)  # calling phase\n",
    "\tprint(n)  # op in returning phase\n",
    "\treturn # op in returning phase\n",
    "\t\n",
    "\n",
    "print_1_to_n(5)\n"
   ]
  },
  {
   "cell_type": "code",
   "execution_count": 5,
   "metadata": {},
   "outputs": [
    {
     "name": "stdout",
     "output_type": "stream",
     "text": [
      "5\n",
      "4\n",
      "3\n",
      "2\n",
      "1\n"
     ]
    }
   ],
   "source": [
    "def print_1_to_n(n):\n",
    "\tif n == 0:\n",
    "\t\treturn\n",
    "\tprint(n)  # calling phase\n",
    "\tprint_1_to_n(n-1)# calling phase\n",
    "\treturn  # op in returning phase\n",
    "\n",
    "\n",
    "print_1_to_n(5)\n"
   ]
  },
  {
   "cell_type": "markdown",
   "metadata": {},
   "source": [
    "## Fibonacci Number\n",
    "\n",
    "**Extended PMI** says....\n",
    "\n",
    "Assume `f(1)` is true , Assume `f(2)` is true -> `f(3)` .... -> `f(k)` is True.\n",
    "Then Using all of this we can proof if `f(k+1)` is `True` or `False`\n",
    "\n",
    "So, we can use `f(1)` to proof `f(2)`, then using `f(2)` we can proof `f(3)`...and so on.\n",
    "Therefore, we can also use both `f(1) and f(2)` to proof `f(3)` , and `f(1),f(2),f(3)` to proof `f(4)` and so on.\n",
    "\n"
   ]
  },
  {
   "cell_type": "code",
   "execution_count": 10,
   "metadata": {},
   "outputs": [
    {
     "name": "stdout",
     "output_type": "stream",
     "text": [
      "8\n"
     ]
    }
   ],
   "source": [
    "def fib(n):\n",
    "\tif n == 0 or n == 1:\n",
    "\t\treturn n\n",
    "\tfib_n_1 = fib(n-1) # calling phase\n",
    "\tfib_n_2 = fib(n-2)  # calling phase\n",
    "\toutput = fib_n_1 + fib_n_2  # op in returning phase\n",
    "\treturn output  # op in returning phase\n",
    "\n",
    "print(fib(6)) # 1,1,2,3,5, 8"
   ]
  },
  {
   "cell_type": "markdown",
   "metadata": {},
   "source": [
    "## Sum of Array\n",
    "\n",
    "- Base Case: If List is of size `0`, then `sum=0`;\n",
    "- Induction Hypothesis: Summation of List of size `l-1`, (`[1:]`) is `smallSum`, \n",
    "- Induction Step/Recursive Calculation:\n",
    "  - `a[0] + smallSum`\n"
   ]
  },
  {
   "cell_type": "code",
   "execution_count": 6,
   "metadata": {},
   "outputs": [
    {
     "name": "stdout",
     "output_type": "stream",
     "text": [
      "8\n"
     ]
    }
   ],
   "source": [
    "def sum_of_array(a):\n",
    "\tl = len(a)\n",
    "\tif l == 0:\n",
    "\t\treturn 0\n",
    "\t\t\n",
    "\tsmallerList = a[1:]\n",
    "\tsmallerSum = sum_of_array(smallerList)\n",
    "\treturn a[0] + smallerSum\n",
    "\t\n",
    "print(sum_of_array([2,2,2,1,1]))\n",
    "\t"
   ]
  },
  {
   "cell_type": "markdown",
   "metadata": {},
   "source": [
    "## Check Number in Array\n",
    "\n",
    "- Base Case: List is of size `0` or `1` => `return False`\n",
    "- Induction Hypothesis: `x` is present in List of size `l-1`\n",
    "- Induction Step:\n",
    "  - if `a[0]!=x` \n",
    "  - ask recursion to find `x` in the `smallerList` "
   ]
  },
  {
   "cell_type": "code",
   "execution_count": 34,
   "metadata": {},
   "outputs": [
    {
     "name": "stdout",
     "output_type": "stream",
     "text": [
      "True\n",
      "False\n"
     ]
    }
   ],
   "source": [
    "def checkNumberInArray(x,a):\n",
    "\tl = len(a)\n",
    "\tif l == 0:\n",
    "\t\treturn False\n",
    "\t\t\n",
    "\tif x == a[0]:\n",
    "\t\treturn True\n",
    "\t\n",
    "\tsmallerList = a[1:]\n",
    "\tpresentInSmallerList = checkNumberInArray(x,smallerList)\n",
    "\t\n",
    "\tif presentInSmallerList:\n",
    "\t\treturn True\n",
    "\telse:\n",
    "\t\treturn False\n",
    "\n",
    "\n",
    "\t\n",
    "print(checkNumberInArray(3,[1,2,3,4,5]))\n",
    "print(checkNumberInArray(6, [1, 2, 3, 4, 5]))\n"
   ]
  },
  {
   "cell_type": "markdown",
   "metadata": {},
   "source": [
    "## Check If List Is Sorted Or Not\n",
    "\n",
    "- Base Case: List is of size `0` or `1`\n",
    "- Induction Hypothesis:  It will works with `l-1` sized List.\n",
    "- Induction Step:\n",
    "  - check if `[0] > [1]`; `rerun false` ~ list is not sorted\n",
    "  - else check for smallerList starting from `[1:]`\n",
    "\n",
    "```\n",
    "    False<==> f([1,2,1,5,4])\n",
    "                ↓\n",
    "              1>2(x).....do nothing \n",
    "                ↓\n",
    "        False <==>  f([2,1,5,4]) \n",
    "                      ↓\n",
    "                    2>1 return false \n",
    "                      ↓\n",
    "                ☝  False\n",
    "                      \n",
    "```\n",
    "\n",
    "```\n",
    "    TRUE<==>  f([1,2,3])\n",
    "                ↓\n",
    "              1>2(x).....do nothing \n",
    "                ↓\n",
    "        TRUE <==>  f([2,3]) \n",
    "                      ↓\n",
    "                    2>3(x).....do nothing \n",
    "                      ↓\n",
    "          TRUE <==>  f([3]) \n",
    "                        ↓\n",
    "                      len = 1 \n",
    "                        ↓\n",
    "                  ☝  TRUE\n",
    "                      \n",
    "```"
   ]
  },
  {
   "cell_type": "code",
   "execution_count": 35,
   "metadata": {},
   "outputs": [
    {
     "name": "stdout",
     "output_type": "stream",
     "text": [
      "False\n",
      "True\n"
     ]
    }
   ],
   "source": [
    "def isSorted(a):\n",
    "\tl = len(a)\n",
    "\tif l == 0 or l == 1: # base case\n",
    "\t\treturn True\n",
    "\t\t\n",
    "\t# Induction step\t\n",
    "\tif a[0] > a[1]: \n",
    "\t\treturn False\n",
    "\t\t\n",
    "\tsmallerList = a[1:]\n",
    "\tisSmallerSorted = isSorted(smallerList)\n",
    "\tif isSmallerSorted:\n",
    "\t\treturn True\n",
    "\telse:\n",
    "\t\treturn False\n",
    "\n",
    "\n",
    "print(isSorted([4,2,3,1,5]))\n",
    "print(isSorted([1,2,3,4,5]))"
   ]
  },
  {
   "cell_type": "markdown",
   "metadata": {},
   "source": [
    "But current solution is making two many Copies in the memory each time of calling the function. So below code is memory efficient:\n",
    "\n",
    "- Induction Hypothesis: It will works with `l-1` sized List.\n",
    "- Induction Step:\n",
    "  - check `si == l-1 or si == l ` `rerun false` ; *# si = start index*\n",
    "  - else check for smallerList starting from `[si+1]` index\n",
    "\n",
    "```\n",
    "    False<==> f([1,2,1,5,4],si=0)\n",
    "                ↓\n",
    "              a[si]>a[si+1].....do nothing \n",
    "                ↓\n",
    "                si+1\n",
    "                ↓\n",
    "      False <==> f([2,1,5,4],1) \n",
    "                      ↓\n",
    "                    a[si]>a[si+1] return false \n",
    "                      ↓\n",
    "                ☝  False\n",
    "                      \n",
    "```\n",
    "\n",
    "```\n",
    "    TRUE<==>  f([1,2,3],0)\n",
    "                ↓\n",
    "              a[si]>a[si+1].....do nothing \n",
    "                    ↓\n",
    "                    si+1\n",
    "                    ↓\n",
    "        TRUE <==>  f([2,3],1) \n",
    "                      ↓\n",
    "                    2>3(x).....do nothing \n",
    "                      ↓\n",
    "          TRUE <==>  f([3],2) \n",
    "                        ↓\n",
    "                      si = l \n",
    "                        ↓\n",
    "                  ☝  TRUE\n",
    "                      \n",
    "```"
   ]
  },
  {
   "cell_type": "code",
   "execution_count": 37,
   "metadata": {},
   "outputs": [
    {
     "name": "stdout",
     "output_type": "stream",
     "text": [
      "True\n",
      "False\n"
     ]
    }
   ],
   "source": [
    "def isSortedBetter(a,si):# si = start index\n",
    "\tl = len(a)\n",
    "\tif si == l-1 or si == l:\n",
    "\t\treturn True\n",
    "\t\t\n",
    "\tif a[si] > a[si+1]:\n",
    "\t\treturn False\n",
    "\t\t\n",
    "\tisSmallerSorted = isSortedBetter(a,si+1)\n",
    "\treturn isSmallerSorted\n",
    "\n",
    "print(isSortedBetter([1,2,3,4,5],0))\n",
    "print(isSortedBetter([1, 2, 4, 3, 5], 0))\n"
   ]
  },
  {
   "cell_type": "markdown",
   "metadata": {},
   "source": [
    "## First Index Of Number in an Array\n",
    "\n",
    "- Base Case: List is of size `0` or `1`\n",
    "- Induction Hypothesis:  It will works with `l-1` sized List.\n",
    "- Induction Step:\n",
    "  - check `a[0]===x`; `rerun 0` ~ found\n",
    "  - else check in smallerList starting from `[1:]`\n"
   ]
  },
  {
   "cell_type": "code",
   "execution_count": 39,
   "metadata": {},
   "outputs": [
    {
     "name": "stdout",
     "output_type": "stream",
     "text": [
      "2\n",
      "-1\n"
     ]
    }
   ],
   "source": [
    "def firstIndex(a,x):\n",
    "\tl = len(a)\n",
    "\tif l == 0:\n",
    "\t\treturn -1\n",
    "\t\t\n",
    "\tif a[0] == x:\n",
    "\t\treturn 0\n",
    "\t\t\n",
    "\tsmallerList = a[1:]\n",
    "\tfoundInSmallerList = firstIndex(smallerList,x)\n",
    "\tif foundInSmallerList== -1:\n",
    "\t\treturn -1\n",
    "\telse:\n",
    "\t\treturn foundInSmallerList+ 1\n",
    "\n",
    "print(firstIndex([1,2,3,4,5],3))\n",
    "print(firstIndex([1, 2, 3, 4, 5], 10))\n"
   ]
  },
  {
   "cell_type": "code",
   "execution_count": 41,
   "metadata": {},
   "outputs": [
    {
     "name": "stdout",
     "output_type": "stream",
     "text": [
      "2\n",
      "-1\n"
     ]
    }
   ],
   "source": [
    "def firstIndexBetter(a,x,si):\n",
    "\tl = len(a)\n",
    "\tif si == l:\n",
    "\t\treturn -1\n",
    "\t\t\n",
    "\tif a[si] == x:\n",
    "\t\treturn si\n",
    "\t\t\n",
    "\tfoundInSmallerList = firstIndexBetter(a,x,si+1)\n",
    "\treturn foundInSmallerList\n",
    "\t\n",
    "print(firstIndexBetter([1,2,3,4,5],3,0))\n",
    "print(firstIndexBetter([1, 2, 3, 4, 5], 10, 0))\n"
   ]
  },
  {
   "cell_type": "markdown",
   "metadata": {},
   "source": [
    "## Last Index Of Number in an Array\n",
    "\n",
    "```sh\n",
    "    3 <==> f([1,3,4,3],3)\n",
    "                ↓\n",
    "        2,2+1 <==> f([3,4,3],3) \n",
    "                      ↓\n",
    "\t\t\t1,1+1 <==> f([4,3],3) \n",
    "\t\t\t\t\t\t↓\t\t\n",
    "\t\t\t\t0,0+1 <==> f([3],3) \n",
    "\t\t\t\t\t\t\t↓\t  \n",
    "\t\t\t   -1, a[0]==3 <==> f([],3) \n",
    "\t\t\t\t\t\t\t\t↓\t\t\t\t\t\t\t\n",
    "\t\t\t\t\t\t  return -1\t\t\t\t\t  \n",
    "\t\t\t\t\t  \n",
    "                ☝  False\n",
    "                      \n",
    "```\n"
   ]
  },
  {
   "cell_type": "code",
   "execution_count": 43,
   "metadata": {},
   "outputs": [
    {
     "name": "stdout",
     "output_type": "stream",
     "text": [
      "3\n"
     ]
    }
   ],
   "source": [
    "def lastIndex(a,x):\n",
    "\tl = len(a)\n",
    "\tif l == 0:\n",
    "\t\treturn -1\n",
    "\t\t\n",
    "\tsmallerList = a[1:]\n",
    "\tfoundInSmallerList = lastIndex(smallerList,x) # Calling phase\n",
    "\t# op in returning phase\n",
    "\tif foundInSmallerList != -1:\n",
    "\t\treturn foundInSmallerList+ 1\n",
    "\telse:\n",
    "\t\tif a[0] == x:\n",
    "\t\t\treturn 0\n",
    "\t\telse:\n",
    "\t\t\treturn -1\n",
    "\n",
    "print(lastIndex([1,3,4,3],3))"
   ]
  },
  {
   "cell_type": "code",
   "execution_count": 44,
   "metadata": {},
   "outputs": [
    {
     "name": "stdout",
     "output_type": "stream",
     "text": [
      "3\n"
     ]
    }
   ],
   "source": [
    "def lastIndexBetter(a,x,si):\n",
    "\tl = len(a)\n",
    "\tif si == l:\n",
    "\t\treturn -1\n",
    "\t\t\n",
    "\tfoundInSmallerList = lastIndexBetter(a,x,si+1) # Calling phase\n",
    "\t# op in returning phase\n",
    "\tif foundInSmallerList != -1:\n",
    "\t\treturn foundInSmallerList\n",
    "\telse:\n",
    "\t\tif a[si] == x:\n",
    "\t\t\treturn si\n",
    "\t\telse:\n",
    "\t\t\treturn -1\n",
    "\n",
    "a= [1,3,4,3]\n",
    "x=3\n",
    "print(lastIndexBetter(a,x,0))"
   ]
  }
 ],
 "metadata": {
  "interpreter": {
   "hash": "8cdb09b0bc1c395d296938b19fe7764d972a7ceeffba4d3ad7ff6a3771581719"
  },
  "kernelspec": {
   "display_name": "Python 3.8.8 64-bit ('base': conda)",
   "name": "python3"
  },
  "language_info": {
   "codemirror_mode": {
    "name": "ipython",
    "version": 3
   },
   "file_extension": ".py",
   "mimetype": "text/x-python",
   "name": "python",
   "nbconvert_exporter": "python",
   "pygments_lexer": "ipython3",
   "version": "3.8.8"
  },
  "orig_nbformat": 2
 },
 "nbformat": 4,
 "nbformat_minor": 2
}
