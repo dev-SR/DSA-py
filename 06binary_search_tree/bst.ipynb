{
 "cells": [
  {
   "cell_type": "markdown",
   "metadata": {},
   "source": [
    "# Binary Search Tree"
   ]
  },
  {
   "cell_type": "code",
   "execution_count": null,
   "metadata": {},
   "outputs": [],
   "source": [
    "\"\"\"\n",
    "cd .\\06binary_search_tree\\\n",
    "jupyter nbconvert --to markdown bst.ipynb --output README.md\n",
    "\n",
    "\"\"\""
   ]
  },
  {
   "cell_type": "markdown",
   "metadata": {},
   "source": [
    "## Introduction"
   ]
  },
  {
   "cell_type": "markdown",
   "metadata": {},
   "source": [
    "`Binary Search Tree` is a node-based binary tree data structure which has the following properties:\n",
    "\n",
    "- The `left subtree `of a node contains only nodes with keys **`lesser`** than the node’s key.\n",
    "- The `right subtree` of a node contains only nodes with keys **`greater`** than the node’s key.\n",
    "- The `left and right subtree` each must also be a `binary search` tree."
   ]
  },
  {
   "cell_type": "markdown",
   "metadata": {},
   "source": [
    "<div align=\"center\">\n",
    "<img src=\"img/BST-intro@3x.jpg\" alt=\"BST-intro@3x.jpg\" width=\"600px\">\n",
    "</div>"
   ]
  },
  {
   "cell_type": "markdown",
   "metadata": {},
   "source": [
    "Time Complexity:\n",
    "- Insertion: `O(n)`\n",
    "- Search: `O(h)`; h is the height of the tree\n",
    "- Deletion: `O(n)`"
   ]
  },
  {
   "cell_type": "code",
   "execution_count": 1,
   "metadata": {},
   "outputs": [],
   "source": [
    "class BinaryTreeNode:\n",
    "\tdef __init__(self, data):\n",
    "\t\tself.data = data\n",
    "\t\tself.left = None\n",
    "\t\tself.right = None\n",
    "\n",
    "\tdef __str__(self):\n",
    "\t\treturn str(self.data)"
   ]
  },
  {
   "cell_type": "code",
   "execution_count": 3,
   "metadata": {},
   "outputs": [],
   "source": [
    "A = BinaryTreeNode(4)\n",
    "B = BinaryTreeNode(2)\n",
    "C = BinaryTreeNode(6)\n",
    "D = BinaryTreeNode(1)\n",
    "E = BinaryTreeNode(3)\n",
    "F = BinaryTreeNode(5)\n",
    "G = BinaryTreeNode(7)\n",
    "\n",
    "\n",
    "A.left = B\n",
    "A.right = C\n",
    "B.left = D\n",
    "B.right = E\n",
    "C.left = F\n",
    "C.right = G"
   ]
  },
  {
   "cell_type": "code",
   "execution_count": 15,
   "metadata": {},
   "outputs": [
    {
     "name": "stdout",
     "output_type": "stream",
     "text": [
      "4->L:2,R:6\n",
      "2->L:1,R:3\n",
      "1->\n",
      "3->\n",
      "6->L:5,R:7\n",
      "5->\n",
      "7->\n"
     ]
    }
   ],
   "source": [
    "def print_tree_details(root):\n",
    "\t# print(l)\n",
    "\tif root is None:\n",
    "\t\treturn\n",
    "\t# printing root node\n",
    "\tprint(root.data,end=\"->\")\n",
    "\t# printing left node\n",
    "\tif root.left != None:\n",
    "\t\tprint(f\"L:{root.left.data}\",end=\",\")\n",
    "\t# printing right node\n",
    "\tif root.right != None:\n",
    "\t\tprint(f\"R:{root.right.data}\", end=\"\")\n",
    "\n",
    "\tprint()\n",
    "\tprint_tree_details(root.left)\n",
    "\tprint_tree_details(root.right)\n",
    "\n",
    "print_tree_details(A)"
   ]
  },
  {
   "cell_type": "markdown",
   "metadata": {},
   "source": [
    "## Search in a BST"
   ]
  },
  {
   "cell_type": "markdown",
   "metadata": {},
   "source": [
    "- Base Case: `if root == None: return False` , `if root.data == x: return True`\n",
    "- Recursive Step:\n",
    "  - if `x < root.data`, search in the `left` subtree\n",
    "  - if `x > root.data`, search in the `right` subtree"
   ]
  },
  {
   "cell_type": "code",
   "execution_count": 5,
   "metadata": {},
   "outputs": [],
   "source": [
    "def search(root,X):\n",
    "\tif root == None:\n",
    "\t\treturn False\n",
    "\tif root.data == X:\n",
    "\t\treturn True\n",
    "\t\n",
    "\tif root.data > X:\n",
    "\t\treturn search(root.left,X)\n",
    "\telse:\n",
    "\t\treturn search(root.right,X)"
   ]
  },
  {
   "cell_type": "code",
   "execution_count": 16,
   "metadata": {},
   "outputs": [
    {
     "data": {
      "text/plain": [
       "(True, False)"
      ]
     },
     "execution_count": 16,
     "metadata": {},
     "output_type": "execute_result"
    }
   ],
   "source": [
    "search(A,5),search(A,10)"
   ]
  },
  {
   "cell_type": "markdown",
   "metadata": {},
   "source": [
    "##  Print Elements In Range K1 and K2"
   ]
  },
  {
   "cell_type": "markdown",
   "metadata": {},
   "source": [
    "- Base Case: `if root == None: return`\n",
    "- Recursive Step:\n",
    "  - `if k1<root.data`, print the `left` subtree\n",
    "  - `if k2>root.data`, print the `right` subtree\n",
    "  - `if k1<=root.data<=k2`, print the `root`"
   ]
  },
  {
   "cell_type": "code",
   "execution_count": 43,
   "metadata": {},
   "outputs": [
    {
     "name": "stdout",
     "output_type": "stream",
     "text": [
      "2 3 4 5 6 "
     ]
    }
   ],
   "source": [
    "def printBetweenK1k2(root,k1,k2):\n",
    "\tif root == None:\n",
    "\t\treturn\n",
    "\tif root.data > k1:\n",
    "\t\tprintBetweenK1k2(root.left,k1,k2)\n",
    "\tif root.data >= k1 and root.data <= k2:\n",
    "\t\tprint(root.data,end=\" \")\n",
    "\tif root.data < k2:\n",
    "\t\tprintBetweenK1k2(root.right,k1,k2)\n",
    "\n",
    "printBetweenK1k2(A,2,6)"
   ]
  },
  {
   "cell_type": "markdown",
   "metadata": {},
   "source": [
    "## Convert Sorted Array To BST"
   ]
  },
  {
   "cell_type": "markdown",
   "metadata": {},
   "source": [
    "<div align=\"center\">\n",
    "<img src=\"img/arr-to-bst@3x.jpg\" alt=\"arr-to-bst@3x.jpg\" width=\"800px\">\n",
    "</div>"
   ]
  },
  {
   "cell_type": "markdown",
   "metadata": {},
   "source": [
    "- Base Case: `if len(arr) == 0: return None`\n",
    "- Recursive Step:\n",
    "  - take the middle element of the array and make it the root\n",
    "  - take left side of the array, pass it to the function recursively to make the left subtree\n",
    "  - take right side of the array, pass it to the function recursively to make the right subtree"
   ]
  },
  {
   "cell_type": "code",
   "execution_count": 45,
   "metadata": {},
   "outputs": [],
   "source": [
    "def sortedArrayToBST(arr):\n",
    "\tif len(arr) == 0:\n",
    "\t\treturn None\n",
    "\tmid = len(arr)//2\n",
    "\troot = BinaryTreeNode(arr[mid])\n",
    "\troot.left = sortedArrayToBST(arr[:mid])\n",
    "\troot.right = sortedArrayToBST(arr[mid+1:])\n",
    "\treturn root"
   ]
  },
  {
   "cell_type": "code",
   "execution_count": 47,
   "metadata": {},
   "outputs": [
    {
     "name": "stdout",
     "output_type": "stream",
     "text": [
      "4->L:2,R:6\n",
      "2->L:1,R:3\n",
      "1->\n",
      "3->\n",
      "6->L:5,R:7\n",
      "5->\n",
      "7->\n"
     ]
    }
   ],
   "source": [
    "print_tree_details(sortedArrayToBST([1,2,3,4,5,6,7]))"
   ]
  },
  {
   "cell_type": "markdown",
   "metadata": {},
   "source": [
    "## Check Is BST or Not"
   ]
  },
  {
   "cell_type": "markdown",
   "metadata": {},
   "source": [
    "### isBST Sol.1 "
   ]
  },
  {
   "cell_type": "markdown",
   "metadata": {},
   "source": [
    "- Base Case: `if root == None: return True`\n",
    "- Inductive Hypothesis: \n",
    "  - The left subtree will be a BST(`isBST(root.left)`)\n",
    "  - The right subtree will be a BST(`isBST(root.right)`)\n",
    "- Recursive Step:\n",
    "  - `Condition 1`: check if the `max` value in the `left subtree` is less than the `root`\n",
    "  - `Condition 2`: check if the `min` value in the `right subtree` is greater than the `root`\n",
    "  - if both the conditions are `true`, then the tree is a BST\n",
    "  - Now we need to check if the left and right subtree are also BSTs"
   ]
  },
  {
   "cell_type": "code",
   "execution_count": 55,
   "metadata": {},
   "outputs": [
    {
     "data": {
      "text/plain": [
       "True"
      ]
     },
     "execution_count": 55,
     "metadata": {},
     "output_type": "execute_result"
    }
   ],
   "source": [
    "def getMaximumFromLeft(root):\n",
    "\tif root == None:\n",
    "\t\treturn -10000\n",
    "\tleftMax = getMaximumFromLeft(root.left)\n",
    "\trightMax = getMaximumFromLeft(root.right)\n",
    "\treturn max(root.data,leftMax,rightMax)\n",
    "\t\n",
    "def getMinimumFromRight(root):\n",
    "\tif root == None:\n",
    "\t\treturn 10000\n",
    "\tleftMin = getMinimumFromRight(root.left)\n",
    "\trightMin = getMinimumFromRight(root.right)\n",
    "\treturn min(root.data,leftMin,rightMin)\n",
    "\t\n",
    "\t\n",
    "def isBST(root):\n",
    "\tif root == None:\n",
    "\t\treturn True\n",
    "\t\n",
    "\tleftMax = getMaximumFromLeft(root.left)\n",
    "\trightMin = getMinimumFromRight(root.right)\n",
    "\t\n",
    "\tif root.data > leftMax and root.data < rightMin and isBST(root.left) and isBST(root.right):\n",
    "\t\treturn True\n",
    "\telse:\n",
    "\t\treturn False\n",
    "\t\t\n",
    "isBST(A)\n"
   ]
  },
  {
   "cell_type": "code",
   "execution_count": 58,
   "metadata": {},
   "outputs": [
    {
     "data": {
      "text/plain": [
       "(True, False)"
      ]
     },
     "execution_count": 58,
     "metadata": {},
     "output_type": "execute_result"
    }
   ],
   "source": [
    "isBST(sortedArrayToBST([1,2,3,4,5,6,7])), isBST(sortedArrayToBST([5,2,3,4,5,6,8]))"
   ]
  },
  {
   "cell_type": "markdown",
   "metadata": {},
   "source": [
    "### isBST Sol.2"
   ]
  },
  {
   "cell_type": "markdown",
   "metadata": {},
   "source": [
    "We can check constraints on the `min` and `max` values that a node can take like the following way:"
   ]
  },
  {
   "cell_type": "markdown",
   "metadata": {},
   "source": [
    "<div align=\"center\">\n",
    "<img src=\"img/constrain.jpg\" alt=\"constrain.jpg\" width=\"700px\">\n",
    "</div>"
   ]
  },
  {
   "cell_type": "code",
   "execution_count": 63,
   "metadata": {},
   "outputs": [],
   "source": [
    "def isBST3(root,min_range,max_range):\n",
    "\tif root == None:\n",
    "\t\treturn True\n",
    "\t\n",
    "\tif root.data < min_range or root.data > max_range:\n",
    "\t\treturn False\n",
    "\t\n",
    "\tisLeftBSTConstrainSatisfies = isBST3(root.left,min_range,root.data-1)\n",
    "\tisRightBSTConstrainSatisfies = isBST3(root.right,root.data,max_range)\n",
    "\t\n",
    "\treturn isLeftBSTConstrainSatisfies and isRightBSTConstrainSatisfies"
   ]
  },
  {
   "cell_type": "code",
   "execution_count": 64,
   "metadata": {},
   "outputs": [
    {
     "data": {
      "text/plain": [
       "(True, False)"
      ]
     },
     "execution_count": 64,
     "metadata": {},
     "output_type": "execute_result"
    }
   ],
   "source": [
    "isBST3(sortedArrayToBST([1,2,3,4,5,6,7]),-10000,10000), isBST3(sortedArrayToBST([5,2,3,4,5,6,8]),-10000,10000)"
   ]
  }
 ],
 "metadata": {
  "kernelspec": {
   "display_name": "Python 3.9.12 ('base')",
   "language": "python",
   "name": "python3"
  },
  "language_info": {
   "codemirror_mode": {
    "name": "ipython",
    "version": 3
   },
   "file_extension": ".py",
   "mimetype": "text/x-python",
   "name": "python",
   "nbconvert_exporter": "python",
   "pygments_lexer": "ipython3",
   "version": "3.9.12"
  },
  "orig_nbformat": 2,
  "vscode": {
   "interpreter": {
    "hash": "13a64c48d63ab7fa89dd239a6172cf842d756bd82fcb4ba948a9115b41dc50a1"
   }
  }
 },
 "nbformat": 4,
 "nbformat_minor": 2
}
